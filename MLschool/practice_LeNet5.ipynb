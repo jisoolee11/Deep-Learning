{
  "nbformat": 4,
  "nbformat_minor": 0,
  "metadata": {
    "colab": {
      "name": "practice LeNet5.ipynb",
      "provenance": [],
      "collapsed_sections": [],
      "authorship_tag": "ABX9TyPqaD5KhqY9QZfOYb6GaSv+",
      "include_colab_link": true
    },
    "kernelspec": {
      "name": "python3",
      "display_name": "Python 3"
    }
  },
  "cells": [
    {
      "cell_type": "markdown",
      "metadata": {
        "id": "view-in-github",
        "colab_type": "text"
      },
      "source": [
        "<a href=\"https://colab.research.google.com/github/jisoolee11/Deep-Learning/blob/main/MLschool/practice_LeNet5.ipynb\" target=\"_parent\"><img src=\"https://colab.research.google.com/assets/colab-badge.svg\" alt=\"Open In Colab\"/></a>"
      ]
    },
    {
      "cell_type": "code",
      "metadata": {
        "id": "AdYDRmkDue2P"
      },
      "source": [
        "import tensorflow as tf\r\n",
        "import pandas as pd"
      ],
      "execution_count": null,
      "outputs": []
    },
    {
      "cell_type": "code",
      "metadata": {
        "colab": {
          "base_uri": "https://localhost:8080/"
        },
        "id": "CE4BFQ10uvYj",
        "outputId": "b3053409-dc21-43c3-95fc-24c907a65fc9"
      },
      "source": [
        "# 데이터를 준비합니다.\r\n",
        "(독립, 종속), _ = tf.keras.datasets.mnist.load_data()\r\n",
        "독립 = 독립.reshape(60000, 28, 28, 1)\r\n",
        "종속 = pd.get_dummies(종속)\r\n",
        "print(독립.shape, 종속.shape)"
      ],
      "execution_count": null,
      "outputs": [
        {
          "output_type": "stream",
          "text": [
            "Downloading data from https://storage.googleapis.com/tensorflow/tf-keras-datasets/mnist.npz\n",
            "11493376/11490434 [==============================] - 0s 0us/step\n",
            "(60000, 28, 28, 1) (60000, 10)\n"
          ],
          "name": "stdout"
        }
      ]
    },
    {
      "cell_type": "code",
      "metadata": {
        "id": "b1S7qkzBvTSE"
      },
      "source": [
        "# 모델을 완성합니다.\r\n",
        "X = tf.keras.layers.Input(shape=[28, 28, 1])\r\n",
        "\r\n",
        "H = tf.keras.layers.Conv2D(6, kernel_size=5, padding='same', activation='swish')(X)\r\n",
        "H = tf.keras.layers.MaxPool2D()(H)\r\n",
        "\r\n",
        "H = tf.keras.layers.Conv2D(16, kernel_size=5, activation='swish')(H)\r\n",
        "H = tf.keras.layers.MaxPool2D()(H)\r\n",
        "\r\n",
        "H = tf.keras.layers.Flatten()(H)\r\n",
        "H = tf.keras.layers.Dense(120, activation='swish')(H)\r\n",
        "H = tf.keras.layers.Dense(84, activation='swish')(H)\r\n",
        "Y = tf.keras.layers.Dense(10, activation='softmax')(H)\r\n",
        "\r\n",
        "model = tf.keras.models.Model(X, Y)\r\n",
        "model.compile(loss='categorical_crossentropy', metrics='accuracy')"
      ],
      "execution_count": null,
      "outputs": []
    },
    {
      "cell_type": "code",
      "metadata": {
        "colab": {
          "base_uri": "https://localhost:8080/"
        },
        "id": "ODPUrA28wXfL",
        "outputId": "6285c44c-6281-4d65-e86d-dcb79bb85129"
      },
      "source": [
        "model.fit(독립, 종속, epochs=10)"
      ],
      "execution_count": null,
      "outputs": [
        {
          "output_type": "stream",
          "text": [
            "Epoch 1/10\n",
            "1875/1875 [==============================] - 45s 23ms/step - loss: 1.0115 - accuracy: 0.8690\n",
            "Epoch 2/10\n",
            "1875/1875 [==============================] - 43s 23ms/step - loss: 0.0919 - accuracy: 0.9756\n",
            "Epoch 3/10\n",
            "1875/1875 [==============================] - 43s 23ms/step - loss: 0.0693 - accuracy: 0.9824\n",
            "Epoch 4/10\n",
            "1875/1875 [==============================] - 43s 23ms/step - loss: 0.0670 - accuracy: 0.9835\n",
            "Epoch 5/10\n",
            "1875/1875 [==============================] - 43s 23ms/step - loss: 0.0644 - accuracy: 0.9846\n",
            "Epoch 6/10\n",
            "1875/1875 [==============================] - 43s 23ms/step - loss: 0.0575 - accuracy: 0.9858\n",
            "Epoch 7/10\n",
            "1875/1875 [==============================] - 43s 23ms/step - loss: 0.0604 - accuracy: 0.9865\n",
            "Epoch 8/10\n",
            "1875/1875 [==============================] - 44s 23ms/step - loss: 0.0567 - accuracy: 0.9876\n",
            "Epoch 9/10\n",
            "1875/1875 [==============================] - 43s 23ms/step - loss: 0.0595 - accuracy: 0.9881\n",
            "Epoch 10/10\n",
            "1875/1875 [==============================] - 43s 23ms/step - loss: 0.0557 - accuracy: 0.9886\n"
          ],
          "name": "stdout"
        },
        {
          "output_type": "execute_result",
          "data": {
            "text/plain": [
              "<tensorflow.python.keras.callbacks.History at 0x7ff0e16151d0>"
            ]
          },
          "metadata": {
            "tags": []
          },
          "execution_count": 6
        }
      ]
    },
    {
      "cell_type": "markdown",
      "metadata": {
        "id": "FOck-iICw210"
      },
      "source": [
        "<h1>Cifar10"
      ]
    },
    {
      "cell_type": "code",
      "metadata": {
        "colab": {
          "base_uri": "https://localhost:8080/"
        },
        "id": "q94gouuJwx32",
        "outputId": "c3260616-63c0-4031-a6f3-bca815406561"
      },
      "source": [
        "# 데이터를 준비합니다.\r\n",
        "(독립, 종속), _ = tf.keras.datasets.cifar10.load_data()\r\n",
        "print(독립.shape, 종속.shape)\r\n",
        "\r\n",
        "종속 = pd.get_dummies(종속.reshape(50000))\r\n",
        "print(독립.shape, 종속.shape)"
      ],
      "execution_count": null,
      "outputs": [
        {
          "output_type": "stream",
          "text": [
            "(50000, 32, 32, 3) (50000, 1)\n",
            "(50000, 32, 32, 3) (50000, 10)\n"
          ],
          "name": "stdout"
        }
      ]
    },
    {
      "cell_type": "code",
      "metadata": {
        "id": "thk2XTqJAeUd"
      },
      "source": [
        "# 모델을 완성합니다.\r\n",
        "X = tf.keras.layers.Input(shape=[32, 32, 3])\r\n",
        "\r\n",
        "H = tf.keras.layers.Conv2D(6, kernel_size=5, activation='swish')(X)\r\n",
        "H = tf.keras.layers.MaxPool2D()(H)\r\n",
        "\r\n",
        "H = tf.keras.layers.Conv2D(16, kernel_size=5, activation='swish')(H)\r\n",
        "H = tf.keras.layers.MaxPool2D()(H)\r\n",
        "\r\n",
        "H = tf.keras.layers.Flatten()(H)\r\n",
        "H = tf.keras.layers.Dense(120, activation='swish')(H)\r\n",
        "H = tf.keras.layers.Dense(84, activation='swish')(H)\r\n",
        "Y = tf.keras.layers.Dense(10, activation='softmax')(H)\r\n",
        "\r\n",
        "model = tf.keras.models.Model(X, Y)\r\n",
        "model.compile(loss='categorical_crossentropy', metrics='accuracy')"
      ],
      "execution_count": null,
      "outputs": []
    },
    {
      "cell_type": "code",
      "metadata": {
        "colab": {
          "base_uri": "https://localhost:8080/"
        },
        "id": "AqiyqmfLBLcZ",
        "outputId": "24504ada-0b3d-497a-d22d-035ebb90da16"
      },
      "source": [
        "model.fit(독립, 종속, epochs=10)"
      ],
      "execution_count": null,
      "outputs": [
        {
          "output_type": "stream",
          "text": [
            "Epoch 1/10\n",
            "1563/1563 [==============================] - 44s 27ms/step - loss: 3.2209 - accuracy: 0.2415\n",
            "Epoch 2/10\n",
            "1563/1563 [==============================] - 43s 28ms/step - loss: 1.5940 - accuracy: 0.4244\n",
            "Epoch 3/10\n",
            "1563/1563 [==============================] - 43s 27ms/step - loss: 1.4756 - accuracy: 0.4714\n",
            "Epoch 4/10\n",
            "1563/1563 [==============================] - 43s 28ms/step - loss: 1.4166 - accuracy: 0.4969\n",
            "Epoch 5/10\n",
            "1563/1563 [==============================] - 44s 28ms/step - loss: 1.3741 - accuracy: 0.5150\n",
            "Epoch 6/10\n",
            "1563/1563 [==============================] - 44s 28ms/step - loss: 1.3635 - accuracy: 0.5272\n",
            "Epoch 7/10\n",
            "1563/1563 [==============================] - 44s 28ms/step - loss: 1.3513 - accuracy: 0.5297\n",
            "Epoch 8/10\n",
            "1563/1563 [==============================] - 43s 28ms/step - loss: 1.3446 - accuracy: 0.5367\n",
            "Epoch 9/10\n",
            "1563/1563 [==============================] - 44s 28ms/step - loss: 1.3489 - accuracy: 0.5378\n",
            "Epoch 10/10\n",
            "1563/1563 [==============================] - 44s 28ms/step - loss: 1.3452 - accuracy: 0.5367\n"
          ],
          "name": "stdout"
        },
        {
          "output_type": "execute_result",
          "data": {
            "text/plain": [
              "<tensorflow.python.keras.callbacks.History at 0x7ff0dea7f2b0>"
            ]
          },
          "metadata": {
            "tags": []
          },
          "execution_count": 12
        }
      ]
    },
    {
      "cell_type": "code",
      "metadata": {
        "colab": {
          "base_uri": "https://localhost:8080/"
        },
        "id": "G7kpRwkVBP1Y",
        "outputId": "d8edd1ca-f371-4b58-da95-f282ee98f6c8"
      },
      "source": [
        "model.summary()"
      ],
      "execution_count": null,
      "outputs": [
        {
          "output_type": "stream",
          "text": [
            "Model: \"model_1\"\n",
            "_________________________________________________________________\n",
            "Layer (type)                 Output Shape              Param #   \n",
            "=================================================================\n",
            "input_4 (InputLayer)         [(None, 32, 32, 3)]       0         \n",
            "_________________________________________________________________\n",
            "conv2d_6 (Conv2D)            (None, 28, 28, 6)         456       \n",
            "_________________________________________________________________\n",
            "max_pooling2d_6 (MaxPooling2 (None, 14, 14, 6)         0         \n",
            "_________________________________________________________________\n",
            "conv2d_7 (Conv2D)            (None, 10, 10, 16)        2416      \n",
            "_________________________________________________________________\n",
            "max_pooling2d_7 (MaxPooling2 (None, 5, 5, 16)          0         \n",
            "_________________________________________________________________\n",
            "flatten_2 (Flatten)          (None, 400)               0         \n",
            "_________________________________________________________________\n",
            "dense_6 (Dense)              (None, 120)               48120     \n",
            "_________________________________________________________________\n",
            "dense_7 (Dense)              (None, 84)                10164     \n",
            "_________________________________________________________________\n",
            "dense_8 (Dense)              (None, 10)                850       \n",
            "=================================================================\n",
            "Total params: 62,006\n",
            "Trainable params: 62,006\n",
            "Non-trainable params: 0\n",
            "_________________________________________________________________\n"
          ],
          "name": "stdout"
        }
      ]
    }
  ]
}