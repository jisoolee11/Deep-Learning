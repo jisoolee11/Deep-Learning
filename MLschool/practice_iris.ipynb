{
  "nbformat": 4,
  "nbformat_minor": 0,
  "metadata": {
    "colab": {
      "name": "practice-iris.ipynb",
      "provenance": [],
      "authorship_tag": "ABX9TyOoN1qWTpR6VOO5gH64YObN",
      "include_colab_link": true
    },
    "kernelspec": {
      "name": "python3",
      "display_name": "Python 3"
    }
  },
  "cells": [
    {
      "cell_type": "markdown",
      "metadata": {
        "id": "view-in-github",
        "colab_type": "text"
      },
      "source": [
        "<a href=\"https://colab.research.google.com/github/jisoolee11/Deep-Learning/blob/main/MLschool/practice_iris.ipynb\" target=\"_parent\"><img src=\"https://colab.research.google.com/assets/colab-badge.svg\" alt=\"Open In Colab\"/></a>"
      ]
    },
    {
      "cell_type": "markdown",
      "metadata": {
        "id": "kiQJVeLBseaL"
      },
      "source": [
        "<h1> 아이리스 품종 분류</h1>\r\n",
        "\r\n",
        "- 아이리스:https://raw.githubusercontent.com/blackdew/tensorflow1/master/csv/iris.csv"
      ]
    },
    {
      "cell_type": "code",
      "metadata": {
        "id": "1YIsmtlpr_2U"
      },
      "source": [
        "# 라이브러리 사용\r\n",
        "import tensorflow as tf\r\n",
        "import pandas as pd"
      ],
      "execution_count": 1,
      "outputs": []
    },
    {
      "cell_type": "code",
      "metadata": {
        "colab": {
          "base_uri": "https://localhost:8080/",
          "height": 195
        },
        "id": "UVR0yAVqs9Sd",
        "outputId": "e3fb461f-efdd-42bd-c718-2794d77dbf98"
      },
      "source": [
        "# 과거의 데이터를 불러옵니다\r\n",
        "파일경로 = 'https://raw.githubusercontent.com/blackdew/tensorflow1/master/csv/iris.csv'\r\n",
        "아이리스 = pd.read_csv(파일경로)\r\n",
        "아이리스.head()"
      ],
      "execution_count": 2,
      "outputs": [
        {
          "output_type": "execute_result",
          "data": {
            "text/html": [
              "<div>\n",
              "<style scoped>\n",
              "    .dataframe tbody tr th:only-of-type {\n",
              "        vertical-align: middle;\n",
              "    }\n",
              "\n",
              "    .dataframe tbody tr th {\n",
              "        vertical-align: top;\n",
              "    }\n",
              "\n",
              "    .dataframe thead th {\n",
              "        text-align: right;\n",
              "    }\n",
              "</style>\n",
              "<table border=\"1\" class=\"dataframe\">\n",
              "  <thead>\n",
              "    <tr style=\"text-align: right;\">\n",
              "      <th></th>\n",
              "      <th>꽃잎길이</th>\n",
              "      <th>꽃잎폭</th>\n",
              "      <th>꽃받침길이</th>\n",
              "      <th>꽃받침폭</th>\n",
              "      <th>품종</th>\n",
              "    </tr>\n",
              "  </thead>\n",
              "  <tbody>\n",
              "    <tr>\n",
              "      <th>0</th>\n",
              "      <td>5.1</td>\n",
              "      <td>3.5</td>\n",
              "      <td>1.4</td>\n",
              "      <td>0.2</td>\n",
              "      <td>setosa</td>\n",
              "    </tr>\n",
              "    <tr>\n",
              "      <th>1</th>\n",
              "      <td>4.9</td>\n",
              "      <td>3.0</td>\n",
              "      <td>1.4</td>\n",
              "      <td>0.2</td>\n",
              "      <td>setosa</td>\n",
              "    </tr>\n",
              "    <tr>\n",
              "      <th>2</th>\n",
              "      <td>4.7</td>\n",
              "      <td>3.2</td>\n",
              "      <td>1.3</td>\n",
              "      <td>0.2</td>\n",
              "      <td>setosa</td>\n",
              "    </tr>\n",
              "    <tr>\n",
              "      <th>3</th>\n",
              "      <td>4.6</td>\n",
              "      <td>3.1</td>\n",
              "      <td>1.5</td>\n",
              "      <td>0.2</td>\n",
              "      <td>setosa</td>\n",
              "    </tr>\n",
              "    <tr>\n",
              "      <th>4</th>\n",
              "      <td>5.0</td>\n",
              "      <td>3.6</td>\n",
              "      <td>1.4</td>\n",
              "      <td>0.2</td>\n",
              "      <td>setosa</td>\n",
              "    </tr>\n",
              "  </tbody>\n",
              "</table>\n",
              "</div>"
            ],
            "text/plain": [
              "   꽃잎길이  꽃잎폭  꽃받침길이  꽃받침폭      품종\n",
              "0   5.1  3.5    1.4   0.2  setosa\n",
              "1   4.9  3.0    1.4   0.2  setosa\n",
              "2   4.7  3.2    1.3   0.2  setosa\n",
              "3   4.6  3.1    1.5   0.2  setosa\n",
              "4   5.0  3.6    1.4   0.2  setosa"
            ]
          },
          "metadata": {
            "tags": []
          },
          "execution_count": 2
        }
      ]
    },
    {
      "cell_type": "code",
      "metadata": {
        "colab": {
          "base_uri": "https://localhost:8080/",
          "height": 195
        },
        "id": "y3wYe8QLtKaZ",
        "outputId": "11d26c4b-28f8-4c08-f812-c6447b43c97e"
      },
      "source": [
        "# 원핫인코딩\r\n",
        "인코딩 = pd.get_dummies(아이리스)\r\n",
        "인코딩.head()"
      ],
      "execution_count": 3,
      "outputs": [
        {
          "output_type": "execute_result",
          "data": {
            "text/html": [
              "<div>\n",
              "<style scoped>\n",
              "    .dataframe tbody tr th:only-of-type {\n",
              "        vertical-align: middle;\n",
              "    }\n",
              "\n",
              "    .dataframe tbody tr th {\n",
              "        vertical-align: top;\n",
              "    }\n",
              "\n",
              "    .dataframe thead th {\n",
              "        text-align: right;\n",
              "    }\n",
              "</style>\n",
              "<table border=\"1\" class=\"dataframe\">\n",
              "  <thead>\n",
              "    <tr style=\"text-align: right;\">\n",
              "      <th></th>\n",
              "      <th>꽃잎길이</th>\n",
              "      <th>꽃잎폭</th>\n",
              "      <th>꽃받침길이</th>\n",
              "      <th>꽃받침폭</th>\n",
              "      <th>품종_setosa</th>\n",
              "      <th>품종_versicolor</th>\n",
              "      <th>품종_virginica</th>\n",
              "    </tr>\n",
              "  </thead>\n",
              "  <tbody>\n",
              "    <tr>\n",
              "      <th>0</th>\n",
              "      <td>5.1</td>\n",
              "      <td>3.5</td>\n",
              "      <td>1.4</td>\n",
              "      <td>0.2</td>\n",
              "      <td>1</td>\n",
              "      <td>0</td>\n",
              "      <td>0</td>\n",
              "    </tr>\n",
              "    <tr>\n",
              "      <th>1</th>\n",
              "      <td>4.9</td>\n",
              "      <td>3.0</td>\n",
              "      <td>1.4</td>\n",
              "      <td>0.2</td>\n",
              "      <td>1</td>\n",
              "      <td>0</td>\n",
              "      <td>0</td>\n",
              "    </tr>\n",
              "    <tr>\n",
              "      <th>2</th>\n",
              "      <td>4.7</td>\n",
              "      <td>3.2</td>\n",
              "      <td>1.3</td>\n",
              "      <td>0.2</td>\n",
              "      <td>1</td>\n",
              "      <td>0</td>\n",
              "      <td>0</td>\n",
              "    </tr>\n",
              "    <tr>\n",
              "      <th>3</th>\n",
              "      <td>4.6</td>\n",
              "      <td>3.1</td>\n",
              "      <td>1.5</td>\n",
              "      <td>0.2</td>\n",
              "      <td>1</td>\n",
              "      <td>0</td>\n",
              "      <td>0</td>\n",
              "    </tr>\n",
              "    <tr>\n",
              "      <th>4</th>\n",
              "      <td>5.0</td>\n",
              "      <td>3.6</td>\n",
              "      <td>1.4</td>\n",
              "      <td>0.2</td>\n",
              "      <td>1</td>\n",
              "      <td>0</td>\n",
              "      <td>0</td>\n",
              "    </tr>\n",
              "  </tbody>\n",
              "</table>\n",
              "</div>"
            ],
            "text/plain": [
              "   꽃잎길이  꽃잎폭  꽃받침길이  꽃받침폭  품종_setosa  품종_versicolor  품종_virginica\n",
              "0   5.1  3.5    1.4   0.2          1              0             0\n",
              "1   4.9  3.0    1.4   0.2          1              0             0\n",
              "2   4.7  3.2    1.3   0.2          1              0             0\n",
              "3   4.6  3.1    1.5   0.2          1              0             0\n",
              "4   5.0  3.6    1.4   0.2          1              0             0"
            ]
          },
          "metadata": {
            "tags": []
          },
          "execution_count": 3
        }
      ]
    },
    {
      "cell_type": "code",
      "metadata": {
        "colab": {
          "base_uri": "https://localhost:8080/"
        },
        "id": "sEBXNRRytX-Q",
        "outputId": "f72da293-9de2-4013-89e8-720f120279a5"
      },
      "source": [
        "print(인코딩.columns)"
      ],
      "execution_count": 5,
      "outputs": [
        {
          "output_type": "stream",
          "text": [
            "Index(['꽃잎길이', '꽃잎폭', '꽃받침길이', '꽃받침폭', '품종_setosa', '품종_versicolor',\n",
            "       '품종_virginica'],\n",
            "      dtype='object')\n"
          ],
          "name": "stdout"
        }
      ]
    },
    {
      "cell_type": "code",
      "metadata": {
        "colab": {
          "base_uri": "https://localhost:8080/"
        },
        "id": "MuDYhSb9tSXp",
        "outputId": "5f181a41-3d6d-4c6f-c3ed-e23292b60176"
      },
      "source": [
        "# 독립변수, 종속변수\r\n",
        "독립 = 인코딩[['꽃잎길이', '꽃잎폭', '꽃받침길이', '꽃받침폭']]\r\n",
        "종속 = 인코딩[['품종_setosa', '품종_versicolor', '품종_virginica']]\r\n",
        "print(독립.shape, 종속.shape)"
      ],
      "execution_count": 6,
      "outputs": [
        {
          "output_type": "stream",
          "text": [
            "(150, 4) (150, 3)\n"
          ],
          "name": "stdout"
        }
      ]
    },
    {
      "cell_type": "code",
      "metadata": {
        "id": "tgzejP2gtybf"
      },
      "source": [
        "# 모델의 구조를 만듭니다.\r\n",
        "X = tf.keras.layers.Input(shape =[4])\r\n",
        "Y = tf.keras.layers.Dense(3, activation='softmax')(X)\r\n",
        "model = tf.keras.models.Model(X, Y)\r\n",
        "model.compile(loss = 'categorical_crossentropy', metrics = 'accuracy')"
      ],
      "execution_count": 11,
      "outputs": []
    },
    {
      "cell_type": "code",
      "metadata": {
        "colab": {
          "base_uri": "https://localhost:8080/"
        },
        "id": "rihUvaL7uiX9",
        "outputId": "41f7d258-a802-4f2f-8f7a-ff5b3844fdca"
      },
      "source": [
        "# 데이터로 모델을 학습(FIT)합니다.\r\n",
        "model.fit(독립, 종속, epochs= 100)"
      ],
      "execution_count": 17,
      "outputs": [
        {
          "output_type": "stream",
          "text": [
            "Epoch 1/100\n",
            "5/5 [==============================] - 0s 2ms/step - loss: 0.3494 - accuracy: 0.9733\n",
            "Epoch 2/100\n",
            "5/5 [==============================] - 0s 2ms/step - loss: 0.3483 - accuracy: 0.9733\n",
            "Epoch 3/100\n",
            "5/5 [==============================] - 0s 2ms/step - loss: 0.3476 - accuracy: 0.9733\n",
            "Epoch 4/100\n",
            "5/5 [==============================] - 0s 2ms/step - loss: 0.3476 - accuracy: 0.9733\n",
            "Epoch 5/100\n",
            "5/5 [==============================] - 0s 3ms/step - loss: 0.3474 - accuracy: 0.9800\n",
            "Epoch 6/100\n",
            "5/5 [==============================] - 0s 2ms/step - loss: 0.3466 - accuracy: 0.9733\n",
            "Epoch 7/100\n",
            "5/5 [==============================] - 0s 2ms/step - loss: 0.3462 - accuracy: 0.9533\n",
            "Epoch 8/100\n",
            "5/5 [==============================] - 0s 2ms/step - loss: 0.3461 - accuracy: 0.9733\n",
            "Epoch 9/100\n",
            "5/5 [==============================] - 0s 2ms/step - loss: 0.3450 - accuracy: 0.9733\n",
            "Epoch 10/100\n",
            "5/5 [==============================] - 0s 3ms/step - loss: 0.3446 - accuracy: 0.9733\n",
            "Epoch 11/100\n",
            "5/5 [==============================] - 0s 2ms/step - loss: 0.3443 - accuracy: 0.9733\n",
            "Epoch 12/100\n",
            "5/5 [==============================] - 0s 3ms/step - loss: 0.3431 - accuracy: 0.9733\n",
            "Epoch 13/100\n",
            "5/5 [==============================] - 0s 2ms/step - loss: 0.3426 - accuracy: 0.9733\n",
            "Epoch 14/100\n",
            "5/5 [==============================] - 0s 3ms/step - loss: 0.3418 - accuracy: 0.9733\n",
            "Epoch 15/100\n",
            "5/5 [==============================] - 0s 3ms/step - loss: 0.3420 - accuracy: 0.9733\n",
            "Epoch 16/100\n",
            "5/5 [==============================] - 0s 2ms/step - loss: 0.3418 - accuracy: 0.9733\n",
            "Epoch 17/100\n",
            "5/5 [==============================] - 0s 2ms/step - loss: 0.3403 - accuracy: 0.9800\n",
            "Epoch 18/100\n",
            "5/5 [==============================] - 0s 2ms/step - loss: 0.3397 - accuracy: 0.9733\n",
            "Epoch 19/100\n",
            "5/5 [==============================] - 0s 2ms/step - loss: 0.3392 - accuracy: 0.9733\n",
            "Epoch 20/100\n",
            "5/5 [==============================] - 0s 3ms/step - loss: 0.3383 - accuracy: 0.9733\n",
            "Epoch 21/100\n",
            "5/5 [==============================] - 0s 2ms/step - loss: 0.3382 - accuracy: 0.9733\n",
            "Epoch 22/100\n",
            "5/5 [==============================] - 0s 2ms/step - loss: 0.3387 - accuracy: 0.9667\n",
            "Epoch 23/100\n",
            "5/5 [==============================] - 0s 2ms/step - loss: 0.3377 - accuracy: 0.9733\n",
            "Epoch 24/100\n",
            "5/5 [==============================] - 0s 2ms/step - loss: 0.3370 - accuracy: 0.9733\n",
            "Epoch 25/100\n",
            "5/5 [==============================] - 0s 2ms/step - loss: 0.3366 - accuracy: 0.9667\n",
            "Epoch 26/100\n",
            "5/5 [==============================] - 0s 2ms/step - loss: 0.3368 - accuracy: 0.9733\n",
            "Epoch 27/100\n",
            "5/5 [==============================] - 0s 2ms/step - loss: 0.3347 - accuracy: 0.9733\n",
            "Epoch 28/100\n",
            "5/5 [==============================] - 0s 2ms/step - loss: 0.3347 - accuracy: 0.9733\n",
            "Epoch 29/100\n",
            "5/5 [==============================] - 0s 2ms/step - loss: 0.3338 - accuracy: 0.9733\n",
            "Epoch 30/100\n",
            "5/5 [==============================] - 0s 2ms/step - loss: 0.3330 - accuracy: 0.9733\n",
            "Epoch 31/100\n",
            "5/5 [==============================] - 0s 2ms/step - loss: 0.3344 - accuracy: 0.9800\n",
            "Epoch 32/100\n",
            "5/5 [==============================] - 0s 2ms/step - loss: 0.3325 - accuracy: 0.9733\n",
            "Epoch 33/100\n",
            "5/5 [==============================] - 0s 2ms/step - loss: 0.3328 - accuracy: 0.9733\n",
            "Epoch 34/100\n",
            "5/5 [==============================] - 0s 2ms/step - loss: 0.3315 - accuracy: 0.9733\n",
            "Epoch 35/100\n",
            "5/5 [==============================] - 0s 2ms/step - loss: 0.3309 - accuracy: 0.9733\n",
            "Epoch 36/100\n",
            "5/5 [==============================] - 0s 2ms/step - loss: 0.3306 - accuracy: 0.9733\n",
            "Epoch 37/100\n",
            "5/5 [==============================] - 0s 2ms/step - loss: 0.3298 - accuracy: 0.9733\n",
            "Epoch 38/100\n",
            "5/5 [==============================] - 0s 2ms/step - loss: 0.3296 - accuracy: 0.9733\n",
            "Epoch 39/100\n",
            "5/5 [==============================] - 0s 2ms/step - loss: 0.3285 - accuracy: 0.9733\n",
            "Epoch 40/100\n",
            "5/5 [==============================] - 0s 2ms/step - loss: 0.3287 - accuracy: 0.9733\n",
            "Epoch 41/100\n",
            "5/5 [==============================] - 0s 2ms/step - loss: 0.3272 - accuracy: 0.9733\n",
            "Epoch 42/100\n",
            "5/5 [==============================] - 0s 2ms/step - loss: 0.3271 - accuracy: 0.9733\n",
            "Epoch 43/100\n",
            "5/5 [==============================] - 0s 2ms/step - loss: 0.3268 - accuracy: 0.9733\n",
            "Epoch 44/100\n",
            "5/5 [==============================] - 0s 2ms/step - loss: 0.3254 - accuracy: 0.9733\n",
            "Epoch 45/100\n",
            "5/5 [==============================] - 0s 2ms/step - loss: 0.3253 - accuracy: 0.9733\n",
            "Epoch 46/100\n",
            "5/5 [==============================] - 0s 2ms/step - loss: 0.3258 - accuracy: 0.9733\n",
            "Epoch 47/100\n",
            "5/5 [==============================] - 0s 2ms/step - loss: 0.3246 - accuracy: 0.9733\n",
            "Epoch 48/100\n",
            "5/5 [==============================] - 0s 2ms/step - loss: 0.3232 - accuracy: 0.9733\n",
            "Epoch 49/100\n",
            "5/5 [==============================] - 0s 2ms/step - loss: 0.3232 - accuracy: 0.9733\n",
            "Epoch 50/100\n",
            "5/5 [==============================] - 0s 2ms/step - loss: 0.3228 - accuracy: 0.9733\n",
            "Epoch 51/100\n",
            "5/5 [==============================] - 0s 2ms/step - loss: 0.3227 - accuracy: 0.9800\n",
            "Epoch 52/100\n",
            "5/5 [==============================] - 0s 2ms/step - loss: 0.3216 - accuracy: 0.9733\n",
            "Epoch 53/100\n",
            "5/5 [==============================] - 0s 3ms/step - loss: 0.3216 - accuracy: 0.9733\n",
            "Epoch 54/100\n",
            "5/5 [==============================] - 0s 2ms/step - loss: 0.3205 - accuracy: 0.9800\n",
            "Epoch 55/100\n",
            "5/5 [==============================] - 0s 3ms/step - loss: 0.3200 - accuracy: 0.9733\n",
            "Epoch 56/100\n",
            "5/5 [==============================] - 0s 2ms/step - loss: 0.3196 - accuracy: 0.9733\n",
            "Epoch 57/100\n",
            "5/5 [==============================] - 0s 3ms/step - loss: 0.3188 - accuracy: 0.9733\n",
            "Epoch 58/100\n",
            "5/5 [==============================] - 0s 4ms/step - loss: 0.3191 - accuracy: 0.9733\n",
            "Epoch 59/100\n",
            "5/5 [==============================] - 0s 2ms/step - loss: 0.3178 - accuracy: 0.9733\n",
            "Epoch 60/100\n",
            "5/5 [==============================] - 0s 2ms/step - loss: 0.3173 - accuracy: 0.9800\n",
            "Epoch 61/100\n",
            "5/5 [==============================] - 0s 3ms/step - loss: 0.3166 - accuracy: 0.9733\n",
            "Epoch 62/100\n",
            "5/5 [==============================] - 0s 2ms/step - loss: 0.3167 - accuracy: 0.9733\n",
            "Epoch 63/100\n",
            "5/5 [==============================] - 0s 2ms/step - loss: 0.3158 - accuracy: 0.9800\n",
            "Epoch 64/100\n",
            "5/5 [==============================] - 0s 3ms/step - loss: 0.3161 - accuracy: 0.9733\n",
            "Epoch 65/100\n",
            "5/5 [==============================] - 0s 3ms/step - loss: 0.3147 - accuracy: 0.9800\n",
            "Epoch 66/100\n",
            "5/5 [==============================] - 0s 3ms/step - loss: 0.3138 - accuracy: 0.9733\n",
            "Epoch 67/100\n",
            "5/5 [==============================] - 0s 3ms/step - loss: 0.3134 - accuracy: 0.9733\n",
            "Epoch 68/100\n",
            "5/5 [==============================] - 0s 2ms/step - loss: 0.3135 - accuracy: 0.9800\n",
            "Epoch 69/100\n",
            "5/5 [==============================] - 0s 3ms/step - loss: 0.3134 - accuracy: 0.9733\n",
            "Epoch 70/100\n",
            "5/5 [==============================] - 0s 3ms/step - loss: 0.3128 - accuracy: 0.9733\n",
            "Epoch 71/100\n",
            "5/5 [==============================] - 0s 2ms/step - loss: 0.3123 - accuracy: 0.9733\n",
            "Epoch 72/100\n",
            "5/5 [==============================] - 0s 3ms/step - loss: 0.3109 - accuracy: 0.9733\n",
            "Epoch 73/100\n",
            "5/5 [==============================] - 0s 2ms/step - loss: 0.3111 - accuracy: 0.9733\n",
            "Epoch 74/100\n",
            "5/5 [==============================] - 0s 2ms/step - loss: 0.3111 - accuracy: 0.9800\n",
            "Epoch 75/100\n",
            "5/5 [==============================] - 0s 3ms/step - loss: 0.3099 - accuracy: 0.9733\n",
            "Epoch 76/100\n",
            "5/5 [==============================] - 0s 3ms/step - loss: 0.3096 - accuracy: 0.9800\n",
            "Epoch 77/100\n",
            "5/5 [==============================] - 0s 2ms/step - loss: 0.3090 - accuracy: 0.9800\n",
            "Epoch 78/100\n",
            "5/5 [==============================] - 0s 2ms/step - loss: 0.3085 - accuracy: 0.9733\n",
            "Epoch 79/100\n",
            "5/5 [==============================] - 0s 2ms/step - loss: 0.3078 - accuracy: 0.9733\n",
            "Epoch 80/100\n",
            "5/5 [==============================] - 0s 3ms/step - loss: 0.3075 - accuracy: 0.9733\n",
            "Epoch 81/100\n",
            "5/5 [==============================] - 0s 2ms/step - loss: 0.3082 - accuracy: 0.9733\n",
            "Epoch 82/100\n",
            "5/5 [==============================] - 0s 2ms/step - loss: 0.3070 - accuracy: 0.9733\n",
            "Epoch 83/100\n",
            "5/5 [==============================] - 0s 2ms/step - loss: 0.3070 - accuracy: 0.9733\n",
            "Epoch 84/100\n",
            "5/5 [==============================] - 0s 2ms/step - loss: 0.3055 - accuracy: 0.9733\n",
            "Epoch 85/100\n",
            "5/5 [==============================] - 0s 2ms/step - loss: 0.3051 - accuracy: 0.9733\n",
            "Epoch 86/100\n",
            "5/5 [==============================] - 0s 2ms/step - loss: 0.3054 - accuracy: 0.9733\n",
            "Epoch 87/100\n",
            "5/5 [==============================] - 0s 2ms/step - loss: 0.3051 - accuracy: 0.9800\n",
            "Epoch 88/100\n",
            "5/5 [==============================] - 0s 2ms/step - loss: 0.3036 - accuracy: 0.9733\n",
            "Epoch 89/100\n",
            "5/5 [==============================] - 0s 2ms/step - loss: 0.3036 - accuracy: 0.9733\n",
            "Epoch 90/100\n",
            "5/5 [==============================] - 0s 2ms/step - loss: 0.3027 - accuracy: 0.9733\n",
            "Epoch 91/100\n",
            "5/5 [==============================] - 0s 2ms/step - loss: 0.3023 - accuracy: 0.9733\n",
            "Epoch 92/100\n",
            "5/5 [==============================] - 0s 2ms/step - loss: 0.3020 - accuracy: 0.9733\n",
            "Epoch 93/100\n",
            "5/5 [==============================] - 0s 2ms/step - loss: 0.3008 - accuracy: 0.9733\n",
            "Epoch 94/100\n",
            "5/5 [==============================] - 0s 2ms/step - loss: 0.3019 - accuracy: 0.9733\n",
            "Epoch 95/100\n",
            "5/5 [==============================] - 0s 2ms/step - loss: 0.3000 - accuracy: 0.9800\n",
            "Epoch 96/100\n",
            "5/5 [==============================] - 0s 2ms/step - loss: 0.2998 - accuracy: 0.9733\n",
            "Epoch 97/100\n",
            "5/5 [==============================] - 0s 2ms/step - loss: 0.2996 - accuracy: 0.9733\n",
            "Epoch 98/100\n",
            "5/5 [==============================] - 0s 2ms/step - loss: 0.2992 - accuracy: 0.9667\n",
            "Epoch 99/100\n",
            "5/5 [==============================] - 0s 2ms/step - loss: 0.2984 - accuracy: 0.9733\n",
            "Epoch 100/100\n",
            "5/5 [==============================] - 0s 2ms/step - loss: 0.2979 - accuracy: 0.9733\n"
          ],
          "name": "stdout"
        },
        {
          "output_type": "execute_result",
          "data": {
            "text/plain": [
              "<tensorflow.python.keras.callbacks.History at 0x7f64cff117f0>"
            ]
          },
          "metadata": {
            "tags": []
          },
          "execution_count": 17
        }
      ]
    },
    {
      "cell_type": "code",
      "metadata": {
        "colab": {
          "base_uri": "https://localhost:8080/"
        },
        "id": "tSWv1Cuiu5MJ",
        "outputId": "3c1dfff0-8a9c-46ce-d0e7-7b1b745132e8"
      },
      "source": [
        "# 모델을 이용합니다.\r\n",
        "model.predict(독립[-5:])"
      ],
      "execution_count": 20,
      "outputs": [
        {
          "output_type": "execute_result",
          "data": {
            "text/plain": [
              "array([[1.8032333e-04, 3.0761409e-01, 6.9220561e-01],\n",
              "       [2.0621245e-04, 3.7626803e-01, 6.2352574e-01],\n",
              "       [3.6583279e-04, 3.6524507e-01, 6.3438910e-01],\n",
              "       [2.8704599e-04, 2.7177003e-01, 7.2794294e-01],\n",
              "       [6.9561618e-04, 3.8828745e-01, 6.1101693e-01]], dtype=float32)"
            ]
          },
          "metadata": {
            "tags": []
          },
          "execution_count": 20
        }
      ]
    },
    {
      "cell_type": "code",
      "metadata": {
        "colab": {
          "base_uri": "https://localhost:8080/"
        },
        "id": "3nnHsTvMvQMw",
        "outputId": "e14783bd-93cb-47fa-896a-231a0a0bd71d"
      },
      "source": [
        "print(종속[-5:])"
      ],
      "execution_count": 21,
      "outputs": [
        {
          "output_type": "stream",
          "text": [
            "     품종_setosa  품종_versicolor  품종_virginica\n",
            "145          0              0             1\n",
            "146          0              0             1\n",
            "147          0              0             1\n",
            "148          0              0             1\n",
            "149          0              0             1\n"
          ],
          "name": "stdout"
        }
      ]
    },
    {
      "cell_type": "code",
      "metadata": {
        "colab": {
          "base_uri": "https://localhost:8080/"
        },
        "id": "tjesZQHXvd0R",
        "outputId": "41cfc34c-5133-4a4e-fed3-44d64177b010"
      },
      "source": [
        "# 학습한 가중치\r\n",
        "model.get_weights()"
      ],
      "execution_count": 22,
      "outputs": [
        {
          "output_type": "execute_result",
          "data": {
            "text/plain": [
              "[array([[ 0.4010883 ,  0.46821004,  0.1716862 ],\n",
              "        [ 2.145019  , -0.20796223, -0.46536383],\n",
              "        [-1.92216   ,  0.00769865,  0.6523396 ],\n",
              "        [-2.0652692 , -0.32434183,  0.7364848 ]], dtype=float32),\n",
              " array([ 1.0063306,  1.0180111, -1.2040714], dtype=float32)]"
            ]
          },
          "metadata": {
            "tags": []
          },
          "execution_count": 22
        }
      ]
    },
    {
      "cell_type": "code",
      "metadata": {
        "id": "QXdKujnYv67V"
      },
      "source": [
        ""
      ],
      "execution_count": null,
      "outputs": []
    }
  ]
}