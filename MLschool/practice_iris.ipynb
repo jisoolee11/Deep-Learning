{
  "nbformat": 4,
  "nbformat_minor": 0,
  "metadata": {
    "colab": {
      "name": "practice-iris.ipynb",
      "provenance": [],
      "collapsed_sections": [],
      "authorship_tag": "ABX9TyPfjqUSSz8bcSqVgUmQWxm2",
      "include_colab_link": true
    },
    "kernelspec": {
      "name": "python3",
      "display_name": "Python 3"
    }
  },
  "cells": [
    {
      "cell_type": "markdown",
      "metadata": {
        "id": "view-in-github",
        "colab_type": "text"
      },
      "source": [
        "<a href=\"https://colab.research.google.com/github/jisoolee11/Deep-Learning/blob/main/MLschool/practice_iris.ipynb\" target=\"_parent\"><img src=\"https://colab.research.google.com/assets/colab-badge.svg\" alt=\"Open In Colab\"/></a>"
      ]
    },
    {
      "cell_type": "markdown",
      "metadata": {
        "id": "kiQJVeLBseaL"
      },
      "source": [
        "<h1> 아이리스 품종 분류</h1>\r\n",
        "\r\n",
        "- 아이리스:https://raw.githubusercontent.com/blackdew/tensorflow1/master/csv/iris.csv"
      ]
    },
    {
      "cell_type": "code",
      "metadata": {
        "id": "1YIsmtlpr_2U"
      },
      "source": [
        "# 라이브러리 사용\r\n",
        "import tensorflow as tf\r\n",
        "import pandas as pd"
      ],
      "execution_count": null,
      "outputs": []
    },
    {
      "cell_type": "code",
      "metadata": {
        "colab": {
          "base_uri": "https://localhost:8080/",
          "height": 195
        },
        "id": "UVR0yAVqs9Sd",
        "outputId": "e3fb461f-efdd-42bd-c718-2794d77dbf98"
      },
      "source": [
        "# 과거의 데이터를 불러옵니다\r\n",
        "파일경로 = 'https://raw.githubusercontent.com/blackdew/tensorflow1/master/csv/iris.csv'\r\n",
        "아이리스 = pd.read_csv(파일경로)\r\n",
        "아이리스.head()"
      ],
      "execution_count": null,
      "outputs": [
        {
          "output_type": "execute_result",
          "data": {
            "text/html": [
              "<div>\n",
              "<style scoped>\n",
              "    .dataframe tbody tr th:only-of-type {\n",
              "        vertical-align: middle;\n",
              "    }\n",
              "\n",
              "    .dataframe tbody tr th {\n",
              "        vertical-align: top;\n",
              "    }\n",
              "\n",
              "    .dataframe thead th {\n",
              "        text-align: right;\n",
              "    }\n",
              "</style>\n",
              "<table border=\"1\" class=\"dataframe\">\n",
              "  <thead>\n",
              "    <tr style=\"text-align: right;\">\n",
              "      <th></th>\n",
              "      <th>꽃잎길이</th>\n",
              "      <th>꽃잎폭</th>\n",
              "      <th>꽃받침길이</th>\n",
              "      <th>꽃받침폭</th>\n",
              "      <th>품종</th>\n",
              "    </tr>\n",
              "  </thead>\n",
              "  <tbody>\n",
              "    <tr>\n",
              "      <th>0</th>\n",
              "      <td>5.1</td>\n",
              "      <td>3.5</td>\n",
              "      <td>1.4</td>\n",
              "      <td>0.2</td>\n",
              "      <td>setosa</td>\n",
              "    </tr>\n",
              "    <tr>\n",
              "      <th>1</th>\n",
              "      <td>4.9</td>\n",
              "      <td>3.0</td>\n",
              "      <td>1.4</td>\n",
              "      <td>0.2</td>\n",
              "      <td>setosa</td>\n",
              "    </tr>\n",
              "    <tr>\n",
              "      <th>2</th>\n",
              "      <td>4.7</td>\n",
              "      <td>3.2</td>\n",
              "      <td>1.3</td>\n",
              "      <td>0.2</td>\n",
              "      <td>setosa</td>\n",
              "    </tr>\n",
              "    <tr>\n",
              "      <th>3</th>\n",
              "      <td>4.6</td>\n",
              "      <td>3.1</td>\n",
              "      <td>1.5</td>\n",
              "      <td>0.2</td>\n",
              "      <td>setosa</td>\n",
              "    </tr>\n",
              "    <tr>\n",
              "      <th>4</th>\n",
              "      <td>5.0</td>\n",
              "      <td>3.6</td>\n",
              "      <td>1.4</td>\n",
              "      <td>0.2</td>\n",
              "      <td>setosa</td>\n",
              "    </tr>\n",
              "  </tbody>\n",
              "</table>\n",
              "</div>"
            ],
            "text/plain": [
              "   꽃잎길이  꽃잎폭  꽃받침길이  꽃받침폭      품종\n",
              "0   5.1  3.5    1.4   0.2  setosa\n",
              "1   4.9  3.0    1.4   0.2  setosa\n",
              "2   4.7  3.2    1.3   0.2  setosa\n",
              "3   4.6  3.1    1.5   0.2  setosa\n",
              "4   5.0  3.6    1.4   0.2  setosa"
            ]
          },
          "metadata": {
            "tags": []
          },
          "execution_count": 2
        }
      ]
    },
    {
      "cell_type": "code",
      "metadata": {
        "colab": {
          "base_uri": "https://localhost:8080/",
          "height": 212
        },
        "id": "y3wYe8QLtKaZ",
        "outputId": "11d26c4b-28f8-4c08-f812-c6447b43c97e"
      },
      "source": [
        "# 원핫인코딩\r\n",
        "인코딩 = pd.get_dummies(아이리스)\r\n",
        "인코딩.head()"
      ],
      "execution_count": null,
      "outputs": [
        {
          "output_type": "execute_result",
          "data": {
            "text/html": [
              "<div>\n",
              "<style scoped>\n",
              "    .dataframe tbody tr th:only-of-type {\n",
              "        vertical-align: middle;\n",
              "    }\n",
              "\n",
              "    .dataframe tbody tr th {\n",
              "        vertical-align: top;\n",
              "    }\n",
              "\n",
              "    .dataframe thead th {\n",
              "        text-align: right;\n",
              "    }\n",
              "</style>\n",
              "<table border=\"1\" class=\"dataframe\">\n",
              "  <thead>\n",
              "    <tr style=\"text-align: right;\">\n",
              "      <th></th>\n",
              "      <th>꽃잎길이</th>\n",
              "      <th>꽃잎폭</th>\n",
              "      <th>꽃받침길이</th>\n",
              "      <th>꽃받침폭</th>\n",
              "      <th>품종_setosa</th>\n",
              "      <th>품종_versicolor</th>\n",
              "      <th>품종_virginica</th>\n",
              "    </tr>\n",
              "  </thead>\n",
              "  <tbody>\n",
              "    <tr>\n",
              "      <th>0</th>\n",
              "      <td>5.1</td>\n",
              "      <td>3.5</td>\n",
              "      <td>1.4</td>\n",
              "      <td>0.2</td>\n",
              "      <td>1</td>\n",
              "      <td>0</td>\n",
              "      <td>0</td>\n",
              "    </tr>\n",
              "    <tr>\n",
              "      <th>1</th>\n",
              "      <td>4.9</td>\n",
              "      <td>3.0</td>\n",
              "      <td>1.4</td>\n",
              "      <td>0.2</td>\n",
              "      <td>1</td>\n",
              "      <td>0</td>\n",
              "      <td>0</td>\n",
              "    </tr>\n",
              "    <tr>\n",
              "      <th>2</th>\n",
              "      <td>4.7</td>\n",
              "      <td>3.2</td>\n",
              "      <td>1.3</td>\n",
              "      <td>0.2</td>\n",
              "      <td>1</td>\n",
              "      <td>0</td>\n",
              "      <td>0</td>\n",
              "    </tr>\n",
              "    <tr>\n",
              "      <th>3</th>\n",
              "      <td>4.6</td>\n",
              "      <td>3.1</td>\n",
              "      <td>1.5</td>\n",
              "      <td>0.2</td>\n",
              "      <td>1</td>\n",
              "      <td>0</td>\n",
              "      <td>0</td>\n",
              "    </tr>\n",
              "    <tr>\n",
              "      <th>4</th>\n",
              "      <td>5.0</td>\n",
              "      <td>3.6</td>\n",
              "      <td>1.4</td>\n",
              "      <td>0.2</td>\n",
              "      <td>1</td>\n",
              "      <td>0</td>\n",
              "      <td>0</td>\n",
              "    </tr>\n",
              "  </tbody>\n",
              "</table>\n",
              "</div>"
            ],
            "text/plain": [
              "   꽃잎길이  꽃잎폭  꽃받침길이  꽃받침폭  품종_setosa  품종_versicolor  품종_virginica\n",
              "0   5.1  3.5    1.4   0.2          1              0             0\n",
              "1   4.9  3.0    1.4   0.2          1              0             0\n",
              "2   4.7  3.2    1.3   0.2          1              0             0\n",
              "3   4.6  3.1    1.5   0.2          1              0             0\n",
              "4   5.0  3.6    1.4   0.2          1              0             0"
            ]
          },
          "metadata": {
            "tags": []
          },
          "execution_count": 3
        }
      ]
    },
    {
      "cell_type": "code",
      "metadata": {
        "colab": {
          "base_uri": "https://localhost:8080/"
        },
        "id": "sEBXNRRytX-Q",
        "outputId": "f72da293-9de2-4013-89e8-720f120279a5"
      },
      "source": [
        "print(인코딩.columns)"
      ],
      "execution_count": null,
      "outputs": [
        {
          "output_type": "stream",
          "text": [
            "Index(['꽃잎길이', '꽃잎폭', '꽃받침길이', '꽃받침폭', '품종_setosa', '품종_versicolor',\n",
            "       '품종_virginica'],\n",
            "      dtype='object')\n"
          ],
          "name": "stdout"
        }
      ]
    },
    {
      "cell_type": "code",
      "metadata": {
        "colab": {
          "base_uri": "https://localhost:8080/"
        },
        "id": "MuDYhSb9tSXp",
        "outputId": "5f181a41-3d6d-4c6f-c3ed-e23292b60176"
      },
      "source": [
        "# 독립변수, 종속변수\r\n",
        "독립 = 인코딩[['꽃잎길이', '꽃잎폭', '꽃받침길이', '꽃받침폭']]\r\n",
        "종속 = 인코딩[['품종_setosa', '품종_versicolor', '품종_virginica']]\r\n",
        "print(독립.shape, 종속.shape)"
      ],
      "execution_count": null,
      "outputs": [
        {
          "output_type": "stream",
          "text": [
            "(150, 4) (150, 3)\n"
          ],
          "name": "stdout"
        }
      ]
    },
    {
      "cell_type": "code",
      "metadata": {
        "id": "tgzejP2gtybf"
      },
      "source": [
        "# 모델의 구조를 만듭니다.\r\n",
        "X = tf.keras.layers.Input(shape =[4])\r\n",
        "\r\n",
        "H = tf.keras.layers.Dense(8)(X)\r\n",
        "H = tf.keras.layers.BatchNormalization()(H)\r\n",
        "H = tf.keras.layers.Activation('swish')(H)\r\n",
        "\r\n",
        "H = tf.keras.layers.Dense(8)(X)\r\n",
        "H = tf.keras.layers.BatchNormalization()(H)\r\n",
        "H = tf.keras.layers.Activation('swish')(H)\r\n",
        "\r\n",
        "H = tf.keras.layers.Dense(8)(X)\r\n",
        "H = tf.keras.layers.BatchNormalization()(H)\r\n",
        "H = tf.keras.layers.Activation('swish')(H)\r\n",
        "\r\n",
        "Y = tf.keras.layers.Dense(3, activation='softmax')(H)\r\n",
        "model = tf.keras.models.Model(X, Y)\r\n",
        "model.compile(loss = 'categorical_crossentropy', metrics = 'accuracy')"
      ],
      "execution_count": null,
      "outputs": []
    },
    {
      "cell_type": "code",
      "metadata": {
        "id": "rihUvaL7uiX9",
        "colab": {
          "base_uri": "https://localhost:8080/"
        },
        "outputId": "2661eba3-5231-412a-b804-5eba5c572ac4"
      },
      "source": [
        "# 데이터로 모델을 학습(FIT)합니다.\r\n",
        "model.fit(독립, 종속, epochs= 100)"
      ],
      "execution_count": null,
      "outputs": [
        {
          "output_type": "stream",
          "text": [
            "Epoch 1/100\n",
            "5/5 [==============================] - 0s 2ms/step - loss: 0.1360 - accuracy: 0.9667\n",
            "Epoch 2/100\n",
            "5/5 [==============================] - 0s 3ms/step - loss: 0.1349 - accuracy: 0.9533\n",
            "Epoch 3/100\n",
            "5/5 [==============================] - 0s 3ms/step - loss: 0.4128 - accuracy: 0.8533\n",
            "Epoch 4/100\n",
            "5/5 [==============================] - 0s 2ms/step - loss: 0.1521 - accuracy: 0.9400\n",
            "Epoch 5/100\n",
            "5/5 [==============================] - 0s 2ms/step - loss: 0.1122 - accuracy: 0.9733\n",
            "Epoch 6/100\n",
            "5/5 [==============================] - 0s 2ms/step - loss: 0.2087 - accuracy: 0.9200\n",
            "Epoch 7/100\n",
            "5/5 [==============================] - 0s 4ms/step - loss: 0.1254 - accuracy: 0.9600\n",
            "Epoch 8/100\n",
            "5/5 [==============================] - 0s 2ms/step - loss: 0.1196 - accuracy: 0.9600\n",
            "Epoch 9/100\n",
            "5/5 [==============================] - 0s 2ms/step - loss: 0.1159 - accuracy: 0.9733\n",
            "Epoch 10/100\n",
            "5/5 [==============================] - 0s 2ms/step - loss: 0.1289 - accuracy: 0.9467\n",
            "Epoch 11/100\n",
            "5/5 [==============================] - 0s 2ms/step - loss: 0.2167 - accuracy: 0.8933\n",
            "Epoch 12/100\n",
            "5/5 [==============================] - 0s 3ms/step - loss: 0.1109 - accuracy: 0.9800\n",
            "Epoch 13/100\n",
            "5/5 [==============================] - 0s 2ms/step - loss: 0.1031 - accuracy: 0.9800\n",
            "Epoch 14/100\n",
            "5/5 [==============================] - 0s 3ms/step - loss: 0.1831 - accuracy: 0.9267\n",
            "Epoch 15/100\n",
            "5/5 [==============================] - 0s 2ms/step - loss: 0.1334 - accuracy: 0.9533\n",
            "Epoch 16/100\n",
            "5/5 [==============================] - 0s 2ms/step - loss: 0.1170 - accuracy: 0.9600\n",
            "Epoch 17/100\n",
            "5/5 [==============================] - 0s 2ms/step - loss: 0.1102 - accuracy: 0.9600\n",
            "Epoch 18/100\n",
            "5/5 [==============================] - 0s 2ms/step - loss: 0.1340 - accuracy: 0.9533\n",
            "Epoch 19/100\n",
            "5/5 [==============================] - 0s 3ms/step - loss: 0.1233 - accuracy: 0.9533\n",
            "Epoch 20/100\n",
            "5/5 [==============================] - 0s 2ms/step - loss: 0.1159 - accuracy: 0.9733\n",
            "Epoch 21/100\n",
            "5/5 [==============================] - 0s 2ms/step - loss: 0.1050 - accuracy: 0.9867\n",
            "Epoch 22/100\n",
            "5/5 [==============================] - 0s 3ms/step - loss: 0.1919 - accuracy: 0.9067\n",
            "Epoch 23/100\n",
            "5/5 [==============================] - 0s 2ms/step - loss: 0.1082 - accuracy: 0.9600\n",
            "Epoch 24/100\n",
            "5/5 [==============================] - 0s 3ms/step - loss: 0.1410 - accuracy: 0.9467\n",
            "Epoch 25/100\n",
            "5/5 [==============================] - 0s 2ms/step - loss: 0.1098 - accuracy: 0.9600\n",
            "Epoch 26/100\n",
            "5/5 [==============================] - 0s 4ms/step - loss: 0.1526 - accuracy: 0.9400\n",
            "Epoch 27/100\n",
            "5/5 [==============================] - 0s 2ms/step - loss: 0.1041 - accuracy: 0.9733\n",
            "Epoch 28/100\n",
            "5/5 [==============================] - 0s 2ms/step - loss: 0.1318 - accuracy: 0.9733\n",
            "Epoch 29/100\n",
            "5/5 [==============================] - 0s 2ms/step - loss: 0.2053 - accuracy: 0.9133\n",
            "Epoch 30/100\n",
            "5/5 [==============================] - 0s 2ms/step - loss: 0.1113 - accuracy: 0.9667\n",
            "Epoch 31/100\n",
            "5/5 [==============================] - 0s 2ms/step - loss: 0.1743 - accuracy: 0.9467\n",
            "Epoch 32/100\n",
            "5/5 [==============================] - 0s 3ms/step - loss: 0.1323 - accuracy: 0.9533\n",
            "Epoch 33/100\n",
            "5/5 [==============================] - 0s 2ms/step - loss: 0.1668 - accuracy: 0.9533\n",
            "Epoch 34/100\n",
            "5/5 [==============================] - 0s 2ms/step - loss: 0.1192 - accuracy: 0.9667\n",
            "Epoch 35/100\n",
            "5/5 [==============================] - 0s 3ms/step - loss: 0.0872 - accuracy: 0.9667\n",
            "Epoch 36/100\n",
            "5/5 [==============================] - 0s 3ms/step - loss: 0.1411 - accuracy: 0.9400\n",
            "Epoch 37/100\n",
            "5/5 [==============================] - 0s 3ms/step - loss: 0.1247 - accuracy: 0.9600\n",
            "Epoch 38/100\n",
            "5/5 [==============================] - 0s 2ms/step - loss: 0.1259 - accuracy: 0.9667\n",
            "Epoch 39/100\n",
            "5/5 [==============================] - 0s 3ms/step - loss: 0.1006 - accuracy: 0.9600\n",
            "Epoch 40/100\n",
            "5/5 [==============================] - 0s 3ms/step - loss: 0.0897 - accuracy: 0.9800\n",
            "Epoch 41/100\n",
            "5/5 [==============================] - 0s 3ms/step - loss: 0.1254 - accuracy: 0.9600\n",
            "Epoch 42/100\n",
            "5/5 [==============================] - 0s 3ms/step - loss: 0.1081 - accuracy: 0.9667\n",
            "Epoch 43/100\n",
            "5/5 [==============================] - 0s 3ms/step - loss: 0.1631 - accuracy: 0.9400\n",
            "Epoch 44/100\n",
            "5/5 [==============================] - 0s 2ms/step - loss: 0.1266 - accuracy: 0.9533\n",
            "Epoch 45/100\n",
            "5/5 [==============================] - 0s 2ms/step - loss: 0.1136 - accuracy: 0.9600\n",
            "Epoch 46/100\n",
            "5/5 [==============================] - 0s 2ms/step - loss: 0.1153 - accuracy: 0.9600\n",
            "Epoch 47/100\n",
            "5/5 [==============================] - 0s 2ms/step - loss: 0.2090 - accuracy: 0.9133\n",
            "Epoch 48/100\n",
            "5/5 [==============================] - 0s 2ms/step - loss: 0.1670 - accuracy: 0.9200\n",
            "Epoch 49/100\n",
            "5/5 [==============================] - 0s 3ms/step - loss: 0.1804 - accuracy: 0.9400\n",
            "Epoch 50/100\n",
            "5/5 [==============================] - 0s 4ms/step - loss: 0.1417 - accuracy: 0.9467\n",
            "Epoch 51/100\n",
            "5/5 [==============================] - 0s 3ms/step - loss: 0.1962 - accuracy: 0.9000\n",
            "Epoch 52/100\n",
            "5/5 [==============================] - 0s 2ms/step - loss: 0.1521 - accuracy: 0.9267\n",
            "Epoch 53/100\n",
            "5/5 [==============================] - 0s 3ms/step - loss: 0.1106 - accuracy: 0.9667\n",
            "Epoch 54/100\n",
            "5/5 [==============================] - 0s 3ms/step - loss: 0.1175 - accuracy: 0.9667\n",
            "Epoch 55/100\n",
            "5/5 [==============================] - 0s 2ms/step - loss: 0.1117 - accuracy: 0.9600\n",
            "Epoch 56/100\n",
            "5/5 [==============================] - 0s 3ms/step - loss: 0.1412 - accuracy: 0.9533\n",
            "Epoch 57/100\n",
            "5/5 [==============================] - 0s 2ms/step - loss: 0.1402 - accuracy: 0.9533\n",
            "Epoch 58/100\n",
            "5/5 [==============================] - 0s 2ms/step - loss: 0.1350 - accuracy: 0.9400\n",
            "Epoch 59/100\n",
            "5/5 [==============================] - 0s 2ms/step - loss: 0.1047 - accuracy: 0.9800\n",
            "Epoch 60/100\n",
            "5/5 [==============================] - 0s 2ms/step - loss: 0.1189 - accuracy: 0.9600\n",
            "Epoch 61/100\n",
            "5/5 [==============================] - 0s 2ms/step - loss: 0.1794 - accuracy: 0.9400\n",
            "Epoch 62/100\n",
            "5/5 [==============================] - 0s 3ms/step - loss: 0.1386 - accuracy: 0.9600\n",
            "Epoch 63/100\n",
            "5/5 [==============================] - 0s 3ms/step - loss: 0.1684 - accuracy: 0.9333\n",
            "Epoch 64/100\n",
            "5/5 [==============================] - 0s 3ms/step - loss: 0.1185 - accuracy: 0.9533\n",
            "Epoch 65/100\n",
            "5/5 [==============================] - 0s 2ms/step - loss: 0.1940 - accuracy: 0.9333\n",
            "Epoch 66/100\n",
            "5/5 [==============================] - 0s 3ms/step - loss: 0.0992 - accuracy: 0.9600\n",
            "Epoch 67/100\n",
            "5/5 [==============================] - 0s 2ms/step - loss: 0.1238 - accuracy: 0.9400\n",
            "Epoch 68/100\n",
            "5/5 [==============================] - 0s 3ms/step - loss: 0.1119 - accuracy: 0.9600\n",
            "Epoch 69/100\n",
            "5/5 [==============================] - 0s 2ms/step - loss: 0.1561 - accuracy: 0.9467\n",
            "Epoch 70/100\n",
            "5/5 [==============================] - 0s 3ms/step - loss: 0.1349 - accuracy: 0.9467\n",
            "Epoch 71/100\n",
            "5/5 [==============================] - 0s 2ms/step - loss: 0.0904 - accuracy: 0.9867\n",
            "Epoch 72/100\n",
            "5/5 [==============================] - 0s 2ms/step - loss: 0.1153 - accuracy: 0.9667\n",
            "Epoch 73/100\n",
            "5/5 [==============================] - 0s 3ms/step - loss: 0.0939 - accuracy: 0.9800\n",
            "Epoch 74/100\n",
            "5/5 [==============================] - 0s 2ms/step - loss: 0.1115 - accuracy: 0.9667\n",
            "Epoch 75/100\n",
            "5/5 [==============================] - 0s 3ms/step - loss: 0.1041 - accuracy: 0.9667\n",
            "Epoch 76/100\n",
            "5/5 [==============================] - 0s 3ms/step - loss: 0.1111 - accuracy: 0.9667\n",
            "Epoch 77/100\n",
            "5/5 [==============================] - 0s 3ms/step - loss: 0.1155 - accuracy: 0.9533\n",
            "Epoch 78/100\n",
            "5/5 [==============================] - 0s 3ms/step - loss: 0.1302 - accuracy: 0.9267\n",
            "Epoch 79/100\n",
            "5/5 [==============================] - 0s 3ms/step - loss: 0.1085 - accuracy: 0.9600\n",
            "Epoch 80/100\n",
            "5/5 [==============================] - 0s 2ms/step - loss: 0.0948 - accuracy: 0.9667\n",
            "Epoch 81/100\n",
            "5/5 [==============================] - 0s 3ms/step - loss: 0.1142 - accuracy: 0.9600\n",
            "Epoch 82/100\n",
            "5/5 [==============================] - 0s 2ms/step - loss: 0.1084 - accuracy: 0.9800\n",
            "Epoch 83/100\n",
            "5/5 [==============================] - 0s 3ms/step - loss: 0.1375 - accuracy: 0.9400\n",
            "Epoch 84/100\n",
            "5/5 [==============================] - 0s 3ms/step - loss: 0.1054 - accuracy: 0.9667\n",
            "Epoch 85/100\n",
            "5/5 [==============================] - 0s 3ms/step - loss: 0.1294 - accuracy: 0.9467\n",
            "Epoch 86/100\n",
            "5/5 [==============================] - 0s 3ms/step - loss: 0.0796 - accuracy: 0.9733\n",
            "Epoch 87/100\n",
            "5/5 [==============================] - 0s 3ms/step - loss: 0.1087 - accuracy: 0.9667\n",
            "Epoch 88/100\n",
            "5/5 [==============================] - 0s 3ms/step - loss: 0.1994 - accuracy: 0.9200\n",
            "Epoch 89/100\n",
            "5/5 [==============================] - 0s 3ms/step - loss: 0.0801 - accuracy: 0.9733\n",
            "Epoch 90/100\n",
            "5/5 [==============================] - 0s 3ms/step - loss: 0.0801 - accuracy: 0.9800\n",
            "Epoch 91/100\n",
            "5/5 [==============================] - 0s 4ms/step - loss: 0.2594 - accuracy: 0.8667\n",
            "Epoch 92/100\n",
            "5/5 [==============================] - 0s 3ms/step - loss: 0.1672 - accuracy: 0.9267\n",
            "Epoch 93/100\n",
            "5/5 [==============================] - 0s 2ms/step - loss: 0.1156 - accuracy: 0.9467\n",
            "Epoch 94/100\n",
            "5/5 [==============================] - 0s 2ms/step - loss: 0.0922 - accuracy: 0.9733\n",
            "Epoch 95/100\n",
            "5/5 [==============================] - 0s 4ms/step - loss: 0.1898 - accuracy: 0.9067\n",
            "Epoch 96/100\n",
            "5/5 [==============================] - 0s 2ms/step - loss: 0.0874 - accuracy: 0.9733\n",
            "Epoch 97/100\n",
            "5/5 [==============================] - 0s 2ms/step - loss: 0.1488 - accuracy: 0.9333\n",
            "Epoch 98/100\n",
            "5/5 [==============================] - 0s 3ms/step - loss: 0.1802 - accuracy: 0.9133\n",
            "Epoch 99/100\n",
            "5/5 [==============================] - 0s 5ms/step - loss: 0.1556 - accuracy: 0.9533\n",
            "Epoch 100/100\n",
            "5/5 [==============================] - 0s 3ms/step - loss: 0.1272 - accuracy: 0.9533\n"
          ],
          "name": "stdout"
        },
        {
          "output_type": "execute_result",
          "data": {
            "text/plain": [
              "<tensorflow.python.keras.callbacks.History at 0x7f64cdbed588>"
            ]
          },
          "metadata": {
            "tags": []
          },
          "execution_count": 35
        }
      ]
    },
    {
      "cell_type": "code",
      "metadata": {
        "colab": {
          "base_uri": "https://localhost:8080/"
        },
        "id": "tSWv1Cuiu5MJ",
        "outputId": "92bf0ca9-ae0d-4205-b180-9e1afb7f5df4"
      },
      "source": [
        "# 모델을 이용합니다.\r\n",
        "model.predict(독립[0:5])"
      ],
      "execution_count": null,
      "outputs": [
        {
          "output_type": "execute_result",
          "data": {
            "text/plain": [
              "array([[9.99872327e-01, 2.43099657e-05, 1.03391241e-04],\n",
              "       [9.99672890e-01, 9.70893743e-05, 2.30022444e-04],\n",
              "       [9.99730527e-01, 6.15406971e-05, 2.07916280e-04],\n",
              "       [9.99470651e-01, 1.98535417e-04, 3.30899464e-04],\n",
              "       [9.99871492e-01, 2.38858102e-05, 1.04687635e-04]], dtype=float32)"
            ]
          },
          "metadata": {
            "tags": []
          },
          "execution_count": 28
        }
      ]
    },
    {
      "cell_type": "code",
      "metadata": {
        "colab": {
          "base_uri": "https://localhost:8080/"
        },
        "id": "3nnHsTvMvQMw",
        "outputId": "e54b3830-5748-4707-b0f2-b23bbee72685"
      },
      "source": [
        "print(종속[0:5])"
      ],
      "execution_count": null,
      "outputs": [
        {
          "output_type": "stream",
          "text": [
            "   품종_setosa  품종_versicolor  품종_virginica\n",
            "0          1              0             0\n",
            "1          1              0             0\n",
            "2          1              0             0\n",
            "3          1              0             0\n",
            "4          1              0             0\n"
          ],
          "name": "stdout"
        }
      ]
    },
    {
      "cell_type": "code",
      "metadata": {
        "colab": {
          "base_uri": "https://localhost:8080/"
        },
        "id": "tjesZQHXvd0R",
        "outputId": "ebf76db0-ad87-4262-88e3-cc26de0e26f7"
      },
      "source": [
        "# 학습한 가중치\r\n",
        "model.get_weights()"
      ],
      "execution_count": null,
      "outputs": [
        {
          "output_type": "execute_result",
          "data": {
            "text/plain": [
              "[array([[ 0.54858947,  0.3208143 ,  0.3727774 ,  0.16377172,  0.19360375,\n",
              "          0.17057462, -0.1970162 , -0.49898988],\n",
              "        [ 0.1095374 ,  0.2475318 , -0.31089967, -0.36603674, -0.04688509,\n",
              "          0.652453  , -0.22273424,  0.3769924 ],\n",
              "        [-0.45416862,  0.17288966,  0.8393724 ,  0.49063402,  0.41284126,\n",
              "          0.05864242,  0.52459306,  0.6534221 ],\n",
              "        [-0.24276198,  0.4666043 ,  0.55162424,  0.28681612,  0.6933562 ,\n",
              "         -0.00862592, -0.7406511 ,  0.41153577]], dtype=float32),\n",
              " array([ 0.24343729, -0.03273113,  0.1641508 , -0.04360808, -0.14984417,\n",
              "         0.18124607, -0.01041265, -0.02011454], dtype=float32),\n",
              " array([[-0.1137299 ,  0.8972049 ,  0.06056142,  0.8085218 ,  0.7968869 ,\n",
              "          0.39336625, -0.7852065 ,  0.63423234],\n",
              "        [-0.10751545,  0.6361173 ,  0.5356922 , -0.4289464 , -0.19738694,\n",
              "         -0.30869913,  0.2609561 , -0.22390623],\n",
              "        [ 0.59817624, -0.24889706,  0.47319138,  0.07406242, -0.10564186,\n",
              "         -0.18040577,  0.08421268,  0.47206482],\n",
              "        [ 0.05336143,  0.3907964 ,  0.38223943, -0.02417238, -0.2071011 ,\n",
              "          0.39815095,  0.06417114, -0.28990492],\n",
              "        [ 0.6009388 , -0.3974531 , -0.46834877, -0.6942342 , -0.03444599,\n",
              "          0.7225627 ,  0.42738873, -0.11903078],\n",
              "        [-0.36303705,  0.72334236,  0.46016526,  0.38102803,  0.43741992,\n",
              "         -0.3523213 , -0.46689525,  0.67575383],\n",
              "        [ 0.3314688 ,  0.39063174, -0.3334479 , -0.10369234, -0.6312207 ,\n",
              "          0.32044795, -0.15421502,  0.00184183],\n",
              "        [-0.26700962, -0.77668756,  0.53528315, -0.26396006,  0.17547882,\n",
              "          0.61823386,  0.5422297 , -0.382184  ]], dtype=float32),\n",
              " array([-0.07045532,  0.18059625, -0.08067785,  0.09240666,  0.16603485,\n",
              "         0.02268657, -0.11381017,  0.19840261], dtype=float32),\n",
              " array([[ 0.7271245 , -0.12010258,  0.02793463, -0.20427343, -0.5602905 ,\n",
              "          0.36133826, -0.725466  , -0.01222916],\n",
              "        [-0.3376276 ,  0.11751445, -0.29536647, -0.75608975,  0.7496851 ,\n",
              "         -0.12473521,  0.56300116,  0.16772114],\n",
              "        [ 0.3231965 , -0.27827874,  0.43808118, -0.63923246,  0.19995584,\n",
              "          0.10005336, -0.14945765, -0.5850252 ],\n",
              "        [-0.1460774 ,  0.05676111,  0.37194726,  0.31103608,  0.35731187,\n",
              "         -0.90117925,  0.5677003 ,  0.01801929],\n",
              "        [-0.72583044,  0.44682813, -0.80317706,  0.20486376,  0.19800146,\n",
              "         -0.31530708,  0.23073342,  0.22394823],\n",
              "        [ 0.19505721, -0.26581547,  0.3230051 ,  0.13828543,  0.06108307,\n",
              "         -0.7682964 , -0.3041096 ,  0.36023375],\n",
              "        [ 0.25447482,  0.07475248,  0.6192943 , -0.3982661 , -0.41881388,\n",
              "         -0.4199459 , -0.70011467,  0.31350914],\n",
              "        [ 0.28178602, -0.05726211, -0.3446547 ,  0.04154669,  0.5329563 ,\n",
              "          0.5711231 ,  0.34730032,  0.01459971]], dtype=float32),\n",
              " array([-0.15816869,  0.09082701, -0.084826  , -0.2418263 ,  0.23520134,\n",
              "         0.20636027,  0.18006618,  0.1265233 ], dtype=float32),\n",
              " array([[-0.9038931 , -0.03305461,  0.49563146],\n",
              "        [ 0.21544373, -0.86589086, -0.3030623 ],\n",
              "        [-1.1275718 , -0.73352   ,  0.01165991],\n",
              "        [ 0.1485811 , -0.06236333,  0.04382923],\n",
              "        [ 0.3915464 ,  0.3079961 , -0.4171514 ],\n",
              "        [-0.6649105 ,  0.46852022, -0.7412315 ],\n",
              "        [ 0.8367978 , -0.74928886,  0.61476725],\n",
              "        [ 0.37320843, -0.0156546 ,  0.8832628 ]], dtype=float32),\n",
              " array([-0.15629618,  0.18099318, -0.20131242], dtype=float32)]"
            ]
          },
          "metadata": {
            "tags": []
          },
          "execution_count": 30
        }
      ]
    },
    {
      "cell_type": "code",
      "metadata": {
        "id": "QXdKujnYv67V"
      },
      "source": [
        ""
      ],
      "execution_count": null,
      "outputs": []
    }
  ]
}