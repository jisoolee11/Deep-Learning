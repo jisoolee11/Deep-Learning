{
  "nbformat": 4,
  "nbformat_minor": 0,
  "metadata": {
    "colab": {
      "name": "predicting  house price in Boston.ipynb",
      "provenance": [],
      "collapsed_sections": [],
      "authorship_tag": "ABX9TyN7UQZMBCys0o47meEi3KFm",
      "include_colab_link": true
    },
    "kernelspec": {
      "name": "python3",
      "display_name": "Python 3"
    }
  },
  "cells": [
    {
      "cell_type": "markdown",
      "metadata": {
        "id": "view-in-github",
        "colab_type": "text"
      },
      "source": [
        "<a href=\"https://colab.research.google.com/github/jisoolee11/Deep-Learning/blob/main/MLschool/predicting_house_price_in_Boston.ipynb\" target=\"_parent\"><img src=\"https://colab.research.google.com/assets/colab-badge.svg\" alt=\"Open In Colab\"/></a>"
      ]
    },
    {
      "cell_type": "markdown",
      "metadata": {
        "id": "2z19lVLBeZPI"
      },
      "source": [
        "<h1>보스턴 집값 예측</h1>\r\n",
        "\r\n",
        "-보스턴: https://raw.githubusercontent.com/blackdew/tensorflow1/master/csv/boston.csv"
      ]
    },
    {
      "cell_type": "code",
      "metadata": {
        "id": "MM_6gSbPeYlR"
      },
      "source": [
        "# 라이브러리 사용\r\n",
        "import tensorflow as tf\r\n",
        "import pandas as pd"
      ],
      "execution_count": null,
      "outputs": []
    },
    {
      "cell_type": "code",
      "metadata": {
        "colab": {
          "base_uri": "https://localhost:8080/",
          "height": 268
        },
        "id": "uGWBAtmJe3wm",
        "outputId": "9a194d76-7fb0-455b-b4d4-b18a50c9d96b"
      },
      "source": [
        "# 과거의 데이터를 준비합니다.\r\n",
        "파일경로 = 'https://raw.githubusercontent.com/blackdew/tensorflow1/master/csv/boston.csv'\r\n",
        "보스턴 = pd.read_csv(파일경로)\r\n",
        "print(보스턴.columns)\r\n",
        "보스턴.head()"
      ],
      "execution_count": null,
      "outputs": [
        {
          "output_type": "stream",
          "text": [
            "Index(['crim', 'zn', 'indus', 'chas', 'nox', 'rm', 'age', 'dis', 'rad', 'tax',\n",
            "       'ptratio', 'b', 'lstat', 'medv'],\n",
            "      dtype='object')\n"
          ],
          "name": "stdout"
        },
        {
          "output_type": "execute_result",
          "data": {
            "text/html": [
              "<div>\n",
              "<style scoped>\n",
              "    .dataframe tbody tr th:only-of-type {\n",
              "        vertical-align: middle;\n",
              "    }\n",
              "\n",
              "    .dataframe tbody tr th {\n",
              "        vertical-align: top;\n",
              "    }\n",
              "\n",
              "    .dataframe thead th {\n",
              "        text-align: right;\n",
              "    }\n",
              "</style>\n",
              "<table border=\"1\" class=\"dataframe\">\n",
              "  <thead>\n",
              "    <tr style=\"text-align: right;\">\n",
              "      <th></th>\n",
              "      <th>crim</th>\n",
              "      <th>zn</th>\n",
              "      <th>indus</th>\n",
              "      <th>chas</th>\n",
              "      <th>nox</th>\n",
              "      <th>rm</th>\n",
              "      <th>age</th>\n",
              "      <th>dis</th>\n",
              "      <th>rad</th>\n",
              "      <th>tax</th>\n",
              "      <th>ptratio</th>\n",
              "      <th>b</th>\n",
              "      <th>lstat</th>\n",
              "      <th>medv</th>\n",
              "    </tr>\n",
              "  </thead>\n",
              "  <tbody>\n",
              "    <tr>\n",
              "      <th>0</th>\n",
              "      <td>0.00632</td>\n",
              "      <td>18.0</td>\n",
              "      <td>2.31</td>\n",
              "      <td>0</td>\n",
              "      <td>0.538</td>\n",
              "      <td>6.575</td>\n",
              "      <td>65.2</td>\n",
              "      <td>4.0900</td>\n",
              "      <td>1</td>\n",
              "      <td>296</td>\n",
              "      <td>15.3</td>\n",
              "      <td>396.90</td>\n",
              "      <td>4.98</td>\n",
              "      <td>24.0</td>\n",
              "    </tr>\n",
              "    <tr>\n",
              "      <th>1</th>\n",
              "      <td>0.02731</td>\n",
              "      <td>0.0</td>\n",
              "      <td>7.07</td>\n",
              "      <td>0</td>\n",
              "      <td>0.469</td>\n",
              "      <td>6.421</td>\n",
              "      <td>78.9</td>\n",
              "      <td>4.9671</td>\n",
              "      <td>2</td>\n",
              "      <td>242</td>\n",
              "      <td>17.8</td>\n",
              "      <td>396.90</td>\n",
              "      <td>9.14</td>\n",
              "      <td>21.6</td>\n",
              "    </tr>\n",
              "    <tr>\n",
              "      <th>2</th>\n",
              "      <td>0.02729</td>\n",
              "      <td>0.0</td>\n",
              "      <td>7.07</td>\n",
              "      <td>0</td>\n",
              "      <td>0.469</td>\n",
              "      <td>7.185</td>\n",
              "      <td>61.1</td>\n",
              "      <td>4.9671</td>\n",
              "      <td>2</td>\n",
              "      <td>242</td>\n",
              "      <td>17.8</td>\n",
              "      <td>392.83</td>\n",
              "      <td>4.03</td>\n",
              "      <td>34.7</td>\n",
              "    </tr>\n",
              "    <tr>\n",
              "      <th>3</th>\n",
              "      <td>0.03237</td>\n",
              "      <td>0.0</td>\n",
              "      <td>2.18</td>\n",
              "      <td>0</td>\n",
              "      <td>0.458</td>\n",
              "      <td>6.998</td>\n",
              "      <td>45.8</td>\n",
              "      <td>6.0622</td>\n",
              "      <td>3</td>\n",
              "      <td>222</td>\n",
              "      <td>18.7</td>\n",
              "      <td>394.63</td>\n",
              "      <td>2.94</td>\n",
              "      <td>33.4</td>\n",
              "    </tr>\n",
              "    <tr>\n",
              "      <th>4</th>\n",
              "      <td>0.06905</td>\n",
              "      <td>0.0</td>\n",
              "      <td>2.18</td>\n",
              "      <td>0</td>\n",
              "      <td>0.458</td>\n",
              "      <td>7.147</td>\n",
              "      <td>54.2</td>\n",
              "      <td>6.0622</td>\n",
              "      <td>3</td>\n",
              "      <td>222</td>\n",
              "      <td>18.7</td>\n",
              "      <td>396.90</td>\n",
              "      <td>5.33</td>\n",
              "      <td>36.2</td>\n",
              "    </tr>\n",
              "  </tbody>\n",
              "</table>\n",
              "</div>"
            ],
            "text/plain": [
              "      crim    zn  indus  chas    nox  ...  tax  ptratio       b  lstat  medv\n",
              "0  0.00632  18.0   2.31     0  0.538  ...  296     15.3  396.90   4.98  24.0\n",
              "1  0.02731   0.0   7.07     0  0.469  ...  242     17.8  396.90   9.14  21.6\n",
              "2  0.02729   0.0   7.07     0  0.469  ...  242     17.8  392.83   4.03  34.7\n",
              "3  0.03237   0.0   2.18     0  0.458  ...  222     18.7  394.63   2.94  33.4\n",
              "4  0.06905   0.0   2.18     0  0.458  ...  222     18.7  396.90   5.33  36.2\n",
              "\n",
              "[5 rows x 14 columns]"
            ]
          },
          "metadata": {
            "tags": []
          },
          "execution_count": 4
        }
      ]
    },
    {
      "cell_type": "code",
      "metadata": {
        "colab": {
          "base_uri": "https://localhost:8080/"
        },
        "id": "o6_dLa-afKID",
        "outputId": "3d4fc633-844e-40cd-c870-198dc5557231"
      },
      "source": [
        "# 독립변수, 종속변수 분리\r\n",
        "독립 = 보스턴[['crim', 'zn', 'indus', 'chas', 'nox', 'rm', 'age', 'dis', 'rad', 'tax', 'ptratio', 'b', 'lstat']]\r\n",
        "종속 = 보스턴[['medv']]\r\n",
        "print(독립.shape, 종속. shape)"
      ],
      "execution_count": null,
      "outputs": [
        {
          "output_type": "stream",
          "text": [
            "(506, 13) (506, 1)\n"
          ],
          "name": "stdout"
        }
      ]
    },
    {
      "cell_type": "code",
      "metadata": {
        "id": "hQ9FSVUsftQg"
      },
      "source": [
        "# 모델의 구조를 만듭니다.\r\n",
        "X = tf.keras.layers.Input(shape=[13])\r\n",
        "H = tf.keras.layers.Dense(8, activation = 'swish')(X)\r\n",
        "Y = tf.keras.layers.Dense(1)(H)\r\n",
        "model = tf.keras.models.Model(X, Y)\r\n",
        "model.compile(loss = 'mse')"
      ],
      "execution_count": null,
      "outputs": []
    },
    {
      "cell_type": "code",
      "metadata": {
        "colab": {
          "base_uri": "https://localhost:8080/"
        },
        "id": "kAPrLKIKzRoB",
        "outputId": "5db10b5e-3e1c-4468-ed89-7a01f1a83729"
      },
      "source": [
        "model.summary()"
      ],
      "execution_count": null,
      "outputs": [
        {
          "output_type": "stream",
          "text": [
            "Model: \"model\"\n",
            "_________________________________________________________________\n",
            "Layer (type)                 Output Shape              Param #   \n",
            "=================================================================\n",
            "input_1 (InputLayer)         [(None, 13)]              0         \n",
            "_________________________________________________________________\n",
            "dense (Dense)                (None, 10)                140       \n",
            "_________________________________________________________________\n",
            "dense_1 (Dense)              (None, 1)                 11        \n",
            "=================================================================\n",
            "Total params: 151\n",
            "Trainable params: 151\n",
            "Non-trainable params: 0\n",
            "_________________________________________________________________\n"
          ],
          "name": "stdout"
        }
      ]
    },
    {
      "cell_type": "code",
      "metadata": {
        "id": "IK2-AcoA7jdO"
      },
      "source": [
        "# 모델의 구조를 만듭니다. + BatchNormalization\r\n",
        "X = tf.keras.layers.Input(shape=[13])\r\n",
        "\r\n",
        "H = tf.keras.layers.Dense(8)(X)\r\n",
        "H = tf.keras.layers.BatchNormalization()(H)\r\n",
        "H = tf.keras.layers.Activation('swish')(H)\r\n",
        "\r\n",
        "H = tf.keras.layers.Dense(8)(X)\r\n",
        "H = tf.keras.layers.BatchNormalization()(H)\r\n",
        "H = tf.keras.layers.Activation('swish')(H)\r\n",
        "\r\n",
        "H = tf.keras.layers.Dense(8)(X)\r\n",
        "H = tf.keras.layers.BatchNormalization()(H)\r\n",
        "H = tf.keras.layers.Activation('swish')(H)\r\n",
        "\r\n",
        "Y = tf.keras.layers.Dense(1)(H)\r\n",
        "model = tf.keras.models.Model(X, Y)\r\n",
        "model.compile(loss = 'mse')"
      ],
      "execution_count": null,
      "outputs": []
    },
    {
      "cell_type": "code",
      "metadata": {
        "colab": {
          "base_uri": "https://localhost:8080/"
        },
        "id": "TJ0DI1bwgr_g",
        "outputId": "64555c98-fa21-4600-8b0f-09b38009666a"
      },
      "source": [
        "# 데이터로 모델을 학습(FIT)합니다.\r\n",
        "model.fit(독립, 종속, epochs=1000, verbose=0)\r\n",
        "model.fit(독립, 종속, epochs=10)"
      ],
      "execution_count": null,
      "outputs": [
        {
          "output_type": "stream",
          "text": [
            "Epoch 1/10\n",
            "16/16 [==============================] - 0s 1ms/step - loss: 15.3446\n",
            "Epoch 2/10\n",
            "16/16 [==============================] - 0s 1ms/step - loss: 15.0384\n",
            "Epoch 3/10\n",
            "16/16 [==============================] - 0s 1ms/step - loss: 17.4668\n",
            "Epoch 4/10\n",
            "16/16 [==============================] - 0s 1ms/step - loss: 14.8166\n",
            "Epoch 5/10\n",
            "16/16 [==============================] - 0s 1ms/step - loss: 14.8754\n",
            "Epoch 6/10\n",
            "16/16 [==============================] - 0s 1ms/step - loss: 14.7657\n",
            "Epoch 7/10\n",
            "16/16 [==============================] - 0s 1ms/step - loss: 14.5212\n",
            "Epoch 8/10\n",
            "16/16 [==============================] - 0s 1ms/step - loss: 16.1688\n",
            "Epoch 9/10\n",
            "16/16 [==============================] - 0s 1ms/step - loss: 14.0740\n",
            "Epoch 10/10\n",
            "16/16 [==============================] - 0s 1ms/step - loss: 14.7599\n"
          ],
          "name": "stdout"
        },
        {
          "output_type": "execute_result",
          "data": {
            "text/plain": [
              "<tensorflow.python.keras.callbacks.History at 0x7f8f52cfa550>"
            ]
          },
          "metadata": {
            "tags": []
          },
          "execution_count": 19
        }
      ]
    },
    {
      "cell_type": "code",
      "metadata": {
        "colab": {
          "base_uri": "https://localhost:8080/"
        },
        "id": "oN_HIv5RhDoe",
        "outputId": "14284c83-d9fd-40a4-bbce-ae919ac8b208"
      },
      "source": [
        "# 모델을 이용합니다\r\n",
        "model.predict(독립[:5])"
      ],
      "execution_count": null,
      "outputs": [
        {
          "output_type": "execute_result",
          "data": {
            "text/plain": [
              "array([[30.275162],\n",
              "       [23.443123],\n",
              "       [31.665527],\n",
              "       [35.03644 ],\n",
              "       [34.319027]], dtype=float32)"
            ]
          },
          "metadata": {
            "tags": []
          },
          "execution_count": 13
        }
      ]
    },
    {
      "cell_type": "code",
      "metadata": {
        "colab": {
          "base_uri": "https://localhost:8080/",
          "height": 195
        },
        "id": "QV5KWr9nhxo4",
        "outputId": "bceb3322-cf9d-40a2-d128-3f1b20fa0b34"
      },
      "source": [
        "종속[:5]"
      ],
      "execution_count": null,
      "outputs": [
        {
          "output_type": "execute_result",
          "data": {
            "text/html": [
              "<div>\n",
              "<style scoped>\n",
              "    .dataframe tbody tr th:only-of-type {\n",
              "        vertical-align: middle;\n",
              "    }\n",
              "\n",
              "    .dataframe tbody tr th {\n",
              "        vertical-align: top;\n",
              "    }\n",
              "\n",
              "    .dataframe thead th {\n",
              "        text-align: right;\n",
              "    }\n",
              "</style>\n",
              "<table border=\"1\" class=\"dataframe\">\n",
              "  <thead>\n",
              "    <tr style=\"text-align: right;\">\n",
              "      <th></th>\n",
              "      <th>medv</th>\n",
              "    </tr>\n",
              "  </thead>\n",
              "  <tbody>\n",
              "    <tr>\n",
              "      <th>0</th>\n",
              "      <td>24.0</td>\n",
              "    </tr>\n",
              "    <tr>\n",
              "      <th>1</th>\n",
              "      <td>21.6</td>\n",
              "    </tr>\n",
              "    <tr>\n",
              "      <th>2</th>\n",
              "      <td>34.7</td>\n",
              "    </tr>\n",
              "    <tr>\n",
              "      <th>3</th>\n",
              "      <td>33.4</td>\n",
              "    </tr>\n",
              "    <tr>\n",
              "      <th>4</th>\n",
              "      <td>36.2</td>\n",
              "    </tr>\n",
              "  </tbody>\n",
              "</table>\n",
              "</div>"
            ],
            "text/plain": [
              "   medv\n",
              "0  24.0\n",
              "1  21.6\n",
              "2  34.7\n",
              "3  33.4\n",
              "4  36.2"
            ]
          },
          "metadata": {
            "tags": []
          },
          "execution_count": 14
        }
      ]
    },
    {
      "cell_type": "code",
      "metadata": {
        "colab": {
          "base_uri": "https://localhost:8080/"
        },
        "id": "RMeE8kzth1g4",
        "outputId": "7b593b0e-4120-4c6a-afa9-d3dbdbcb1ca0"
      },
      "source": [
        "# 모델의 수식 확인\r\n",
        "model.get_weights()"
      ],
      "execution_count": null,
      "outputs": [
        {
          "output_type": "execute_result",
          "data": {
            "text/plain": [
              "[array([[ 9.67579603e-01,  1.17135927e-01,  2.46461675e-01,\n",
              "          3.27662170e-01,  2.35773802e-01, -5.01384556e-01,\n",
              "         -1.41159832e-01, -3.51487339e-01, -4.27840352e-02,\n",
              "          4.44115669e-01],\n",
              "        [ 4.10699062e-02, -4.84210283e-01,  2.93094337e-01,\n",
              "          1.75069958e-01,  1.53122425e-01, -3.01437795e-01,\n",
              "         -3.04763466e-01, -2.87029415e-01, -4.54958171e-01,\n",
              "         -1.90204158e-01],\n",
              "        [-9.85254169e-01,  1.62609369e-01,  5.19931726e-02,\n",
              "         -4.60282087e-01, -4.03430551e-01, -4.78115648e-01,\n",
              "         -8.62157047e-02,  3.45622778e-01, -2.45084822e-01,\n",
              "          6.05362952e-01],\n",
              "        [-1.64766455e+00, -2.09851837e+00,  1.60870290e+00,\n",
              "         -1.42925930e+00, -4.29803222e-01, -1.00619644e-01,\n",
              "          6.86765432e-01,  1.81828463e+00,  1.49088442e-01,\n",
              "         -2.01676416e+00],\n",
              "        [ 4.81925756e-01, -2.21609429e-01, -5.27736485e-01,\n",
              "          4.77522314e-01,  7.30359554e-02,  4.02416646e-01,\n",
              "         -8.26329052e-01, -2.26836994e-01, -2.07495004e-01,\n",
              "          9.02920008e-01],\n",
              "        [ 2.32200027e+00, -2.69706440e+00,  1.44252837e+00,\n",
              "         -1.85464907e+00,  4.29150522e-01,  4.62434649e-01,\n",
              "          1.63505030e+00,  3.02872109e+00,  6.14821911e-04,\n",
              "         -1.99907184e+00],\n",
              "        [ 5.32315560e-02, -8.48668456e-01,  3.09591740e-01,\n",
              "          2.88905531e-01, -5.05617440e-01, -3.75267208e-01,\n",
              "         -1.77585080e-01, -4.94396091e-01,  4.70969737e-01,\n",
              "         -1.81321606e-01],\n",
              "        [-2.46536389e-01,  2.92715579e-01, -7.20349073e-01,\n",
              "          4.39681828e-01,  1.19125485e-01,  4.70204890e-01,\n",
              "         -2.63489336e-01, -6.07787073e-01, -4.30189133e-01,\n",
              "          9.83390436e-02],\n",
              "        [-5.74441493e-01, -6.56959772e-01,  3.74775045e-02,\n",
              "          1.81358337e-01, -1.33034557e-01,  2.43327022e-01,\n",
              "          1.28151193e-01,  1.90716639e-01, -4.79697853e-01,\n",
              "         -1.23581447e-01],\n",
              "        [-1.35705709e-01,  1.25613987e-01,  2.40252331e-01,\n",
              "          1.11557439e-01, -1.96503311e-01, -4.11756068e-01,\n",
              "         -2.62190811e-02,  4.27734926e-02, -2.23521948e-01,\n",
              "          3.05525064e-01],\n",
              "        [-1.09424412e+00, -2.98076361e-01, -5.51758334e-02,\n",
              "          3.15821409e-01,  3.43515575e-01,  2.62158751e-01,\n",
              "         -8.72061431e-01, -7.97385693e-01, -5.99622726e-04,\n",
              "          2.00094029e-01],\n",
              "        [ 1.04981996e-01,  1.59095034e-01,  1.33937120e-01,\n",
              "          3.70479226e-01, -2.04262491e-02, -2.17736125e-01,\n",
              "          8.46344754e-02,  9.71653238e-02, -2.05708951e-01,\n",
              "         -1.17216550e-01],\n",
              "        [-1.37061745e-01, -5.47157824e-01, -4.07110929e-01,\n",
              "          1.00005306e-01,  3.36426914e-01,  3.94104898e-01,\n",
              "          4.30233210e-01, -1.23859894e+00, -9.13759470e-02,\n",
              "          5.37336826e-01]], dtype=float32),\n",
              " array([ 2.9786015e-01, -1.3115114e+00,  8.1875235e-01, -8.8576055e-01,\n",
              "         1.2925274e-09,  0.0000000e+00,  5.9311104e-01,  6.1051029e-01,\n",
              "        -3.0531394e-23, -7.7109677e-01], dtype=float32),\n",
              " array([[ 1.0141351 ],\n",
              "        [-0.18857771],\n",
              "        [ 0.47589946],\n",
              "        [-0.23585393],\n",
              "        [ 0.14768517],\n",
              "        [-0.6565365 ],\n",
              "        [ 0.31546086],\n",
              "        [ 0.5513423 ],\n",
              "        [ 0.04924589],\n",
              "        [-0.27104625]], dtype=float32),\n",
              " array([0.8420094], dtype=float32)]"
            ]
          },
          "metadata": {
            "tags": []
          },
          "execution_count": 15
        }
      ]
    }
  ]
}
