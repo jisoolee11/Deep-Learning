{
  "nbformat": 4,
  "nbformat_minor": 0,
  "metadata": {
    "colab": {
      "name": "my image.ipynb",
      "provenance": [],
      "authorship_tag": "ABX9TyOVN+GLF9VyMO5xYtTLANMR",
      "include_colab_link": true
    },
    "kernelspec": {
      "name": "python3",
      "display_name": "Python 3"
    }
  },
  "cells": [
    {
      "cell_type": "markdown",
      "metadata": {
        "id": "view-in-github",
        "colab_type": "text"
      },
      "source": [
        "<a href=\"https://colab.research.google.com/github/jisoolee11/Deep-Learning/blob/main/MLschool/my_image.ipynb\" target=\"_parent\"><img src=\"https://colab.research.google.com/assets/colab-badge.svg\" alt=\"Open In Colab\"/></a>"
      ]
    },
    {
      "cell_type": "markdown",
      "metadata": {
        "id": "BNF1FjPrPmnW"
      },
      "source": [
        "<h1>내 이미지 사용하기"
      ]
    },
    {
      "cell_type": "code",
      "metadata": {
        "id": "WVKaO9qjPGrf"
      },
      "source": [
        "!wget -q https://raw.githubusercontent.com/blackdew/tensorflow1/master/csv/notMNIST_small.tar.gz\r\n",
        "!tar -xzf notMNIST_small.tar.gz"
      ],
      "execution_count": 1,
      "outputs": []
    },
    {
      "cell_type": "code",
      "metadata": {
        "colab": {
          "base_uri": "https://localhost:8080/"
        },
        "id": "ccF6UPswPgjr",
        "outputId": "b15a5570-4187-4e2c-f53a-bbc7c13a7164"
      },
      "source": [
        "# 이미지 읽어서 데이터 준비하기\r\n",
        "import glob\r\n",
        "import numpy as np\r\n",
        "import pandas as pd\r\n",
        "import matplotlib.pyplot as plt\r\n",
        "\r\n",
        "paths = glob.glob('./notMNIST_small/*/*.png')\r\n",
        "paths = np.random.permutation(paths)\r\n",
        "독립 = np.array([plt.imread(paths[i]) for i in range(len(paths))])\r\n",
        "종속 = np.array([paths[i].split('/')[2] for i in range(len(paths))])\r\n",
        "print(독립.shape, 종속.shape)"
      ],
      "execution_count": 11,
      "outputs": [
        {
          "output_type": "stream",
          "text": [
            "(18724, 28, 28) (18724,)\n"
          ],
          "name": "stdout"
        }
      ]
    },
    {
      "cell_type": "code",
      "metadata": {
        "colab": {
          "base_uri": "https://localhost:8080/"
        },
        "id": "WgmrEeLETX1m",
        "outputId": "85f29862-9bc2-4db7-bfe2-a70fed8c6ba0"
      },
      "source": [
        "종속[0:10]"
      ],
      "execution_count": 12,
      "outputs": [
        {
          "output_type": "execute_result",
          "data": {
            "text/plain": [
              "array(['F', 'H', 'G', 'G', 'E', 'C', 'D', 'C', 'E', 'E'], dtype='<U1')"
            ]
          },
          "metadata": {
            "tags": []
          },
          "execution_count": 12
        }
      ]
    },
    {
      "cell_type": "code",
      "metadata": {
        "colab": {
          "base_uri": "https://localhost:8080/",
          "height": 283
        },
        "id": "QOcOQEq5TfKN",
        "outputId": "6f4d7f83-ea83-4650-bdbe-5a28c54cdb01"
      },
      "source": [
        "plt.imshow(독립[0], cmap='gray')"
      ],
      "execution_count": 13,
      "outputs": [
        {
          "output_type": "execute_result",
          "data": {
            "text/plain": [
              "<matplotlib.image.AxesImage at 0x7fc56b726908>"
            ]
          },
          "metadata": {
            "tags": []
          },
          "execution_count": 13
        },
        {
          "output_type": "display_data",
          "data": {
            "image/png": "[encoded data removed]",
            "text/plain": [
              "<Figure size 432x288 with 1 Axes>"
            ]
          },
          "metadata": {
            "tags": [],
            "needs_background": "light"
          }
        }
      ]
    },
    {
      "cell_type": "code",
      "metadata": {
        "colab": {
          "base_uri": "https://localhost:8080/"
        },
        "id": "1VhYSkWVQjxx",
        "outputId": "983c0026-13be-4bd5-87ff-b0ee7509fe34"
      },
      "source": [
        "독립 = 독립.reshape(18724, 28, 28, 1)\r\n",
        "종속 = pd.get_dummies(종속)\r\n",
        "print(독립.shape, 종속.shape)"
      ],
      "execution_count": 3,
      "outputs": [
        {
          "output_type": "stream",
          "text": [
            "(18724, 28, 28, 1) (18724, 10)\n"
          ],
          "name": "stdout"
        }
      ]
    },
    {
      "cell_type": "code",
      "metadata": {
        "id": "3M0tS4GuRCVj"
      },
      "source": [
        "import tensorflow as tf\r\n",
        "\r\n",
        "X = tf.keras.layers.Input(shape=[28, 28, 1])\r\n",
        "\r\n",
        "H = tf.keras.layers.Conv2D(6, kernel_size=5, padding='same', activation='swish')(X)\r\n",
        "H = tf.keras.layers.MaxPool2D()(H)\r\n",
        "\r\n",
        "H = tf.keras.layers.Conv2D(16, kernel_size=5, activation='swish')(H)\r\n",
        "H = tf.keras.layers.MaxPool2D()(H)\r\n",
        "\r\n",
        "H = tf.keras.layers.Flatten()(H)\r\n",
        "H = tf.keras.layers.Dense(120, activation='swish')(H)\r\n",
        "H = tf.keras.layers.Dense(84, activation='swish')(H)\r\n",
        "Y = tf.keras.layers.Dense(10, activation='softmax')(H)\r\n",
        "\r\n",
        "model = tf.keras.models.Model(X, Y)\r\n",
        "model.compile(loss='categorical_crossentropy', metrics='accuracy')"
      ],
      "execution_count": 5,
      "outputs": []
    },
    {
      "cell_type": "code",
      "metadata": {
        "colab": {
          "base_uri": "https://localhost:8080/"
        },
        "id": "g050WBelSVw3",
        "outputId": "bdb1ce73-1054-413e-d7e8-085387280d1a"
      },
      "source": [
        "model.fit(독립, 종속, epochs=10)"
      ],
      "execution_count": 6,
      "outputs": [
        {
          "output_type": "stream",
          "text": [
            "Epoch 1/10\n",
            "586/586 [==============================] - 13s 20ms/step - loss: 0.7919 - accuracy: 0.7583\n",
            "Epoch 2/10\n",
            "586/586 [==============================] - 12s 21ms/step - loss: 0.2784 - accuracy: 0.9158\n",
            "Epoch 3/10\n",
            "586/586 [==============================] - 12s 20ms/step - loss: 0.2069 - accuracy: 0.9380\n",
            "Epoch 4/10\n",
            "586/586 [==============================] - 12s 20ms/step - loss: 0.1706 - accuracy: 0.9476\n",
            "Epoch 5/10\n",
            "586/586 [==============================] - 12s 20ms/step - loss: 0.1386 - accuracy: 0.9556\n",
            "Epoch 6/10\n",
            "586/586 [==============================] - 12s 20ms/step - loss: 0.1209 - accuracy: 0.9638\n",
            "Epoch 7/10\n",
            "586/586 [==============================] - 12s 20ms/step - loss: 0.0980 - accuracy: 0.9678\n",
            "Epoch 8/10\n",
            "586/586 [==============================] - 12s 21ms/step - loss: 0.0786 - accuracy: 0.9732\n",
            "Epoch 9/10\n",
            "586/586 [==============================] - 12s 21ms/step - loss: 0.0685 - accuracy: 0.9772\n",
            "Epoch 10/10\n",
            "586/586 [==============================] - 13s 21ms/step - loss: 0.0559 - accuracy: 0.9822\n"
          ],
          "name": "stdout"
        },
        {
          "output_type": "execute_result",
          "data": {
            "text/plain": [
              "<tensorflow.python.keras.callbacks.History at 0x7fc579a7ce48>"
            ]
          },
          "metadata": {
            "tags": []
          },
          "execution_count": 6
        }
      ]
    }
  ]
}