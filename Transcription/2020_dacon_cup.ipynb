{
  "nbformat": 4,
  "nbformat_minor": 0,
  "metadata": {
    "colab": {
      "name": "2020_dacon_cup.ipynb",
      "provenance": [],
      "mount_file_id": "153vt7pNMiikjT5cYgZEVDPNHr-D9sR6e",
      "authorship_tag": "ABX9TyNPRC2h8hKVkSfIT4NxnSe4",
      "include_colab_link": true
    },
    "kernelspec": {
      "name": "python3",
      "display_name": "Python 3"
    },
    "accelerator": "GPU"
  },
  "cells": [
    {
      "cell_type": "markdown",
      "metadata": {
        "id": "view-in-github",
        "colab_type": "text"
      },
      "source": [
        "<a href=\"https://colab.research.google.com/github/jisoolee11/Deep-Learning/blob/main/Transcription/2020_dacon_cup.ipynb\" target=\"_parent\"><img src=\"https://colab.research.google.com/assets/colab-badge.svg\" alt=\"Open In Colab\"/></a>"
      ]
    },
    {
      "cell_type": "markdown",
      "metadata": {
        "id": "AX_cm0wN1aDv"
      },
      "source": [
        "<h1>2020 DACON CUP baseline 코드 입니다."
      ]
    },
    {
      "cell_type": "code",
      "metadata": {
        "colab": {
          "base_uri": "https://localhost:8080/"
        },
        "id": "BG6_fvau1SDk",
        "outputId": "ea9787c8-9435-42ad-db3b-ec7261baf808"
      },
      "source": [
        "cd \"/content/drive/My Drive/Data\""
      ],
      "execution_count": 1,
      "outputs": [
        {
          "output_type": "stream",
          "text": [
            "/content/drive/My Drive/Data\n"
          ],
          "name": "stdout"
        }
      ]
    },
    {
      "cell_type": "code",
      "metadata": {
        "id": "AsxfgCOt-2pa"
      },
      "source": [
        "# !unzip -qq \"/content/drive/My Drive/Data/2020_dacon_cup\""
      ],
      "execution_count": 2,
      "outputs": []
    },
    {
      "cell_type": "code",
      "metadata": {
        "id": "K06NZzip_DzJ"
      },
      "source": [
        "# libraray import\r\n",
        "import pandas as pd\r\n",
        "import numpy as np\r\n",
        "import warnings\r\n",
        "warnings.filterwarnings(action='ignore')  #경고 메세지 무시하고 숨기기\r\n",
        "import torch\r\n",
        "import torch.nn as nn\r\n",
        "import torch.nn.functional as F\r\n",
        "import torchvision\r\n",
        "import torchvision.transforms as transforms\r\n",
        "from torch.utils.data import Dataset, DataLoader\r\n",
        "import torch.optim as optim\r\n",
        "torch.manual_seed(1015)  #gpu연산 무작위 고정\r\n",
        "device = torch.device(\"cuda:0\" if torch.cuda.is_available() else \"cpu\")"
      ],
      "execution_count": 3,
      "outputs": []
    },
    {
      "cell_type": "code",
      "metadata": {
        "colab": {
          "base_uri": "https://localhost:8080/",
          "height": 194
        },
        "id": "t1yy3WNrGCLi",
        "outputId": "b3645923-a4b5-44c0-efaa-d32e8428145b"
      },
      "source": [
        "# 데이터 불러오기\r\n",
        "train = pd.read_csv(\"/content/drive/My Drive/Data/open_data/1차_open_data/train.csv\", encoding='euc-kr')  #한글을 2byte로 인코딩(다른 언어x)\r\n",
        "train['DateTime'] = pd.to_datetime(train.DateTime)\r\n",
        "train['date'] = train.DateTime.dt.date\r\n",
        "train = train.groupby('date').sum().reset_index()  # 날짜별 그룹별 집계\r\n",
        "train.head()\r\n"
      ],
      "execution_count": 4,
      "outputs": [
        {
          "output_type": "execute_result",
          "data": {
            "text/html": [
              "<div>\n",
              "<style scoped>\n",
              "    .dataframe tbody tr th:only-of-type {\n",
              "        vertical-align: middle;\n",
              "    }\n",
              "\n",
              "    .dataframe tbody tr th {\n",
              "        vertical-align: top;\n",
              "    }\n",
              "\n",
              "    .dataframe thead th {\n",
              "        text-align: right;\n",
              "    }\n",
              "</style>\n",
              "<table border=\"1\" class=\"dataframe\">\n",
              "  <thead>\n",
              "    <tr style=\"text-align: right;\">\n",
              "      <th></th>\n",
              "      <th>date</th>\n",
              "      <th>사용자</th>\n",
              "      <th>세션</th>\n",
              "      <th>신규방문자</th>\n",
              "      <th>페이지뷰</th>\n",
              "    </tr>\n",
              "  </thead>\n",
              "  <tbody>\n",
              "    <tr>\n",
              "      <th>0</th>\n",
              "      <td>2018-09-09</td>\n",
              "      <td>281</td>\n",
              "      <td>266</td>\n",
              "      <td>73</td>\n",
              "      <td>1826</td>\n",
              "    </tr>\n",
              "    <tr>\n",
              "      <th>1</th>\n",
              "      <td>2018-09-10</td>\n",
              "      <td>264</td>\n",
              "      <td>247</td>\n",
              "      <td>51</td>\n",
              "      <td>2092</td>\n",
              "    </tr>\n",
              "    <tr>\n",
              "      <th>2</th>\n",
              "      <td>2018-09-11</td>\n",
              "      <td>329</td>\n",
              "      <td>310</td>\n",
              "      <td>58</td>\n",
              "      <td>1998</td>\n",
              "    </tr>\n",
              "    <tr>\n",
              "      <th>3</th>\n",
              "      <td>2018-09-12</td>\n",
              "      <td>300</td>\n",
              "      <td>287</td>\n",
              "      <td>45</td>\n",
              "      <td>2595</td>\n",
              "    </tr>\n",
              "    <tr>\n",
              "      <th>4</th>\n",
              "      <td>2018-09-13</td>\n",
              "      <td>378</td>\n",
              "      <td>344</td>\n",
              "      <td>50</td>\n",
              "      <td>3845</td>\n",
              "    </tr>\n",
              "  </tbody>\n",
              "</table>\n",
              "</div>"
            ],
            "text/plain": [
              "         date  사용자   세션  신규방문자  페이지뷰\n",
              "0  2018-09-09  281  266     73  1826\n",
              "1  2018-09-10  264  247     51  2092\n",
              "2  2018-09-11  329  310     58  1998\n",
              "3  2018-09-12  300  287     45  2595\n",
              "4  2018-09-13  378  344     50  3845"
            ]
          },
          "metadata": {
            "tags": []
          },
          "execution_count": 4
        }
      ]
    },
    {
      "cell_type": "code",
      "metadata": {
        "id": "-yklT9s4HvHz"
      },
      "source": [
        "# 데이터 수정\r\n",
        "# scaling\r\n",
        "mini = train.iloc[:, 1:].min()\r\n",
        "size = train.iloc[:, 1:].max() - train.iloc[:, 1:].min()\r\n",
        "train.iloc[:, 1:] = (train.iloc[:, 1:] - mini) / size\r\n",
        "train.head()\r\n",
        "\r\n",
        "input_window = 30\r\n",
        "output_window = 7\r\n",
        "\r\n",
        "window_x = np.zeros((train.shape[0] - (input_window + output_window), input_window, 4))\r\n",
        "window_y = np.zeros((train.shape[0] - (input_window + output_window), output_window, 4))\r\n",
        "\r\n",
        "for start in range(train.shape[0] - (input_window +output_window)):\r\n",
        "    end = start +input_window\r\n",
        "    window_x[start, :, :] = train.iloc[start: end, 1:].values\r\n",
        "    window_y[start, :, :] = train.iloc[end: end + output_window, 1:].values"
      ],
      "execution_count": 5,
      "outputs": []
    },
    {
      "cell_type": "code",
      "metadata": {
        "id": "PwvUYvKPOz3J"
      },
      "source": [
        "# model 생성\r\n",
        "class LSTM(nn.Module):\r\n",
        "  def __init__(self, input_size, hidden_size):\r\n",
        "    super(LSTM, self).__init__()\r\n",
        "    self.hidden_size = hidden_size\r\n",
        "    # batch_first: RNN이나 LSTM 같은 경우는 batch_size가 아닌 sequence가 가장 먼저 나온다\r\n",
        "    self.lstm = nn.LSTM(input_size=input_size,\r\n",
        "                        hidden_size=hidden_size,\r\n",
        "                        batch_first=True)\r\n",
        "    self.hidden_lstm = nn.LSTM(input_size=hidden_size,\r\n",
        "                               hidden_size=hidden_size,\r\n",
        "                               batch_first=True)\r\n",
        "  \r\n",
        "    self.time_fc = nn.Linear(hidden_size, 4)  #선형회귀 \r\n",
        "  \r\n",
        "  def forward(self, x_time):\r\n",
        "    out_time, _ = self.lstm(x_time)\r\n",
        "    out_time, _ = self.hidden_lstm(out_time)\r\n",
        "    out_time, _ = self.hidden_lstm(out_time)\r\n",
        "    out_time, _ = self.hidden_lstm(out_time)\r\n",
        "\r\n",
        "\r\n",
        "    out_time = self.time_fc(out_time[:,-7:, :])\r\n",
        "\r\n",
        "    return out_time.view(-1, 7, 4)  #차원-1, 7행 4열??\r\n",
        "\r\n",
        "model = LSTM(input_size = 4, hidden_size = 30).to(device)    "
      ],
      "execution_count": 6,
      "outputs": []
    },
    {
      "cell_type": "code",
      "metadata": {
        "colab": {
          "base_uri": "https://localhost:8080/"
        },
        "id": "XkVj1gIRUhwa",
        "outputId": "d42075ec-62d6-47c1-a71b-c3ba2c64570e"
      },
      "source": [
        "# 학습\r\n",
        "window_x = torch.tensor(window_x).float().to(device)\r\n",
        "window_y = torch.tensor(window_y).float().to(device)\r\n",
        "\r\n",
        "# train model\r\n",
        "optimizer = torch.optim.Adam(model.parameters(), lr = 1e-2)\r\n",
        "criterion = nn.MSELoss(size_average= True)  #data size에 영향x\r\n",
        "num_epochs = 500\r\n",
        "train_error = []\r\n",
        "for t in range(num_epochs):\r\n",
        "  train_pred = model(window_x)\r\n",
        "  loss = criterion(train_pred, window_y)\r\n",
        "  train_error.append(loss)\r\n",
        "\r\n",
        "  optimizer.zero_grad()\r\n",
        "  loss.backward()\r\n",
        "  optimizer.step()\r\n",
        "  if t % 10 == 0 and t != 0:\r\n",
        "    print(f\"{t} Epochs train MSE: {loss.item():1.5f}\")"
      ],
      "execution_count": 7,
      "outputs": [
        {
          "output_type": "stream",
          "text": [
            "10 Epochs train MSE: 0.02835\n",
            "20 Epochs train MSE: 0.01247\n",
            "30 Epochs train MSE: 0.01194\n",
            "40 Epochs train MSE: 0.00882\n",
            "50 Epochs train MSE: 0.00821\n",
            "60 Epochs train MSE: 0.00813\n",
            "70 Epochs train MSE: 0.00802\n",
            "80 Epochs train MSE: 0.00795\n",
            "90 Epochs train MSE: 0.00786\n",
            "100 Epochs train MSE: 0.00776\n",
            "110 Epochs train MSE: 0.00755\n",
            "120 Epochs train MSE: 0.00709\n",
            "130 Epochs train MSE: 0.00646\n",
            "140 Epochs train MSE: 0.00647\n",
            "150 Epochs train MSE: 0.00667\n",
            "160 Epochs train MSE: 0.00626\n",
            "170 Epochs train MSE: 0.00591\n",
            "180 Epochs train MSE: 0.00571\n",
            "190 Epochs train MSE: 0.00555\n",
            "200 Epochs train MSE: 0.00548\n",
            "210 Epochs train MSE: 0.00541\n",
            "220 Epochs train MSE: 0.00530\n",
            "230 Epochs train MSE: 0.00624\n",
            "240 Epochs train MSE: 0.00527\n",
            "250 Epochs train MSE: 0.00507\n",
            "260 Epochs train MSE: 0.00486\n",
            "270 Epochs train MSE: 0.00913\n",
            "280 Epochs train MSE: 0.00610\n",
            "290 Epochs train MSE: 0.00538\n",
            "300 Epochs train MSE: 0.00517\n",
            "310 Epochs train MSE: 0.00496\n",
            "320 Epochs train MSE: 0.00482\n",
            "330 Epochs train MSE: 0.00469\n",
            "340 Epochs train MSE: 0.00453\n",
            "350 Epochs train MSE: 0.00432\n",
            "360 Epochs train MSE: 0.00408\n",
            "370 Epochs train MSE: 0.00464\n",
            "380 Epochs train MSE: 0.00399\n",
            "390 Epochs train MSE: 0.00434\n",
            "400 Epochs train MSE: 0.00380\n",
            "410 Epochs train MSE: 0.00330\n",
            "420 Epochs train MSE: 0.00360\n",
            "430 Epochs train MSE: 0.00312\n",
            "440 Epochs train MSE: 0.00278\n",
            "450 Epochs train MSE: 0.00255\n",
            "460 Epochs train MSE: 0.00254\n",
            "470 Epochs train MSE: 0.00310\n",
            "480 Epochs train MSE: 0.00266\n",
            "490 Epochs train MSE: 0.00231\n"
          ],
          "name": "stdout"
        }
      ]
    },
    {
      "cell_type": "code",
      "metadata": {
        "colab": {
          "base_uri": "https://localhost:8080/",
          "height": 399
        },
        "id": "fFPH6RCIWnHR",
        "outputId": "22d1420c-cdce-4312-ead7-b794964f47cb"
      },
      "source": [
        "# 예측\r\n",
        "submission = pd.read_csv(\"/content/drive/My Drive/Data/open_data/1차_open_data/submission.csv\", encoding = 'euc-kr')\r\n",
        "\r\n",
        "last_month = train.iloc[-30:, 1:].values[np.newaxis, ...]\r\n",
        "last_month = torch.tensor(last_month).float().to(device)\r\n",
        "\r\n",
        "for start in range((len(submission) - output_window)//7 + 2):\r\n",
        "    start = start * 7\r\n",
        "    next_week = model(last_month)\r\n",
        "    last_month = torch.cat([last_month[:, 7:, :], next_week], axis = 1)\r\n",
        "\r\n",
        "    pred_week = next_week.cpu().detach().numpy().reshape(output_window, 4)\r\n",
        "    pred_week = pred_week *size.values + mini.values\r\n",
        "    pred_week = pred_week.astype(int)\r\n",
        "\r\n",
        "    if start/7 == (len(submission) - output_window)//7 + 1:\r\n",
        "        submission.iloc[start:, 1:] = pred_week[-submission.iloc[start:, 1:].shape[0]:, :]\r\n",
        "    else:\r\n",
        "        submission.iloc[start: start + output_window, 1:] = pred_week\r\n",
        "submission\r\n"
      ],
      "execution_count": 11,
      "outputs": [
        {
          "output_type": "execute_result",
          "data": {
            "text/html": [
              "<div>\n",
              "<style scoped>\n",
              "    .dataframe tbody tr th:only-of-type {\n",
              "        vertical-align: middle;\n",
              "    }\n",
              "\n",
              "    .dataframe tbody tr th {\n",
              "        vertical-align: top;\n",
              "    }\n",
              "\n",
              "    .dataframe thead th {\n",
              "        text-align: right;\n",
              "    }\n",
              "</style>\n",
              "<table border=\"1\" class=\"dataframe\">\n",
              "  <thead>\n",
              "    <tr style=\"text-align: right;\">\n",
              "      <th></th>\n",
              "      <th>DateTime</th>\n",
              "      <th>사용자</th>\n",
              "      <th>세션</th>\n",
              "      <th>신규방문자</th>\n",
              "      <th>페이지뷰</th>\n",
              "    </tr>\n",
              "  </thead>\n",
              "  <tbody>\n",
              "    <tr>\n",
              "      <th>0</th>\n",
              "      <td>2020-11-09</td>\n",
              "      <td>3472</td>\n",
              "      <td>3424</td>\n",
              "      <td>891</td>\n",
              "      <td>91050</td>\n",
              "    </tr>\n",
              "    <tr>\n",
              "      <th>1</th>\n",
              "      <td>2020-11-10</td>\n",
              "      <td>3300</td>\n",
              "      <td>3296</td>\n",
              "      <td>886</td>\n",
              "      <td>85737</td>\n",
              "    </tr>\n",
              "    <tr>\n",
              "      <th>2</th>\n",
              "      <td>2020-11-11</td>\n",
              "      <td>2955</td>\n",
              "      <td>3009</td>\n",
              "      <td>789</td>\n",
              "      <td>75937</td>\n",
              "    </tr>\n",
              "    <tr>\n",
              "      <th>3</th>\n",
              "      <td>2020-11-12</td>\n",
              "      <td>2276</td>\n",
              "      <td>2331</td>\n",
              "      <td>576</td>\n",
              "      <td>57679</td>\n",
              "    </tr>\n",
              "    <tr>\n",
              "      <th>4</th>\n",
              "      <td>2020-11-13</td>\n",
              "      <td>1793</td>\n",
              "      <td>1808</td>\n",
              "      <td>411</td>\n",
              "      <td>43594</td>\n",
              "    </tr>\n",
              "    <tr>\n",
              "      <th>...</th>\n",
              "      <td>...</td>\n",
              "      <td>...</td>\n",
              "      <td>...</td>\n",
              "      <td>...</td>\n",
              "      <td>...</td>\n",
              "    </tr>\n",
              "    <tr>\n",
              "      <th>56</th>\n",
              "      <td>2021-01-04</td>\n",
              "      <td>3005</td>\n",
              "      <td>2909</td>\n",
              "      <td>711</td>\n",
              "      <td>81326</td>\n",
              "    </tr>\n",
              "    <tr>\n",
              "      <th>57</th>\n",
              "      <td>2021-01-05</td>\n",
              "      <td>2467</td>\n",
              "      <td>2421</td>\n",
              "      <td>580</td>\n",
              "      <td>66552</td>\n",
              "    </tr>\n",
              "    <tr>\n",
              "      <th>58</th>\n",
              "      <td>2021-01-06</td>\n",
              "      <td>1839</td>\n",
              "      <td>1807</td>\n",
              "      <td>414</td>\n",
              "      <td>47243</td>\n",
              "    </tr>\n",
              "    <tr>\n",
              "      <th>59</th>\n",
              "      <td>2021-01-07</td>\n",
              "      <td>1798</td>\n",
              "      <td>1768</td>\n",
              "      <td>411</td>\n",
              "      <td>46659</td>\n",
              "    </tr>\n",
              "    <tr>\n",
              "      <th>60</th>\n",
              "      <td>2021-01-08</td>\n",
              "      <td>4176</td>\n",
              "      <td>4125</td>\n",
              "      <td>1117</td>\n",
              "      <td>109927</td>\n",
              "    </tr>\n",
              "  </tbody>\n",
              "</table>\n",
              "<p>61 rows × 5 columns</p>\n",
              "</div>"
            ],
            "text/plain": [
              "      DateTime   사용자    세션  신규방문자    페이지뷰\n",
              "0   2020-11-09  3472  3424    891   91050\n",
              "1   2020-11-10  3300  3296    886   85737\n",
              "2   2020-11-11  2955  3009    789   75937\n",
              "3   2020-11-12  2276  2331    576   57679\n",
              "4   2020-11-13  1793  1808    411   43594\n",
              "..         ...   ...   ...    ...     ...\n",
              "56  2021-01-04  3005  2909    711   81326\n",
              "57  2021-01-05  2467  2421    580   66552\n",
              "58  2021-01-06  1839  1807    414   47243\n",
              "59  2021-01-07  1798  1768    411   46659\n",
              "60  2021-01-08  4176  4125   1117  109927\n",
              "\n",
              "[61 rows x 5 columns]"
            ]
          },
          "metadata": {
            "tags": []
          },
          "execution_count": 11
        }
      ]
    },
    {
      "cell_type": "code",
      "metadata": {
        "id": "N-2JrC1AcTJg"
      },
      "source": [
        "# 예측파일 저장\r\n",
        "submission.to_csv('submission.csv', index = False, encoding = 'euc-kr')"
      ],
      "execution_count": 12,
      "outputs": []
    }
  ]
}