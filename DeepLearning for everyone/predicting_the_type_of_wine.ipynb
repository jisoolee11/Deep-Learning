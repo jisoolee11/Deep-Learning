{
  "nbformat": 4,
  "nbformat_minor": 0,
  "metadata": {
    "colab": {
      "name": "predicting the type of wine.ipynb",
      "provenance": [],
      "authorship_tag": "ABX9TyN19rX9/Yet7FmM5cTVA8V9",
      "include_colab_link": true
    },
    "kernelspec": {
      "name": "python3",
      "display_name": "Python 3"
    }
  },
  "cells": [
    {
      "cell_type": "markdown",
      "metadata": {
        "id": "view-in-github",
        "colab_type": "text"
      },
      "source": [
        "<a href=\"https://colab.research.google.com/github/jisoolee11/Deep-Learning/blob/main/DeepLearning%20for%20everyone/predicting_the_type_of_wine.ipynb\" target=\"_parent\"><img src=\"https://colab.research.google.com/assets/colab-badge.svg\" alt=\"Open In Colab\"/></a>"
      ]
    },
    {
      "cell_type": "code",
      "metadata": {
        "id": "CsT_7Y3oh7qe"
      },
      "source": [
        "from keras.models import Sequential\r\n",
        "from keras.layers import Dense\r\n",
        "from keras.callbacks import ModelCheckpoint, EarlyStopping\r\n",
        "\r\n",
        "import pandas as pd\r\n",
        "import numpy\r\n",
        "import os\r\n",
        "import tensorflow as tf\r\n",
        "import matplotlib.pyplot as plt"
      ],
      "execution_count": 26,
      "outputs": []
    },
    {
      "cell_type": "code",
      "metadata": {
        "id": "uxdW0N0Ej12v"
      },
      "source": [
        "# seed 값 설정\r\n",
        "seed = 0\r\n",
        "numpy.random.seed(seed)\r\n",
        "tf.random.set_seed(3)"
      ],
      "execution_count": 27,
      "outputs": []
    },
    {
      "cell_type": "code",
      "metadata": {
        "id": "-crc9IIlkAcn"
      },
      "source": [
        "# 데이터 입력\r\n",
        "df_pre = pd.read_csv('wine.csv', header = None)\r\n",
        "df = df_pre.sample(frac = 1)\r\n",
        "dataset = df.values\r\n",
        "X = dataset[:, 0:12]\r\n",
        "Y = dataset[:, 12]"
      ],
      "execution_count": 28,
      "outputs": []
    },
    {
      "cell_type": "code",
      "metadata": {
        "id": "8hzL_01XlS4w"
      },
      "source": [
        "# 모델 설정\r\n",
        "model = Sequential()\r\n",
        "model.add(Dense(30, input_dim = 12, activation='relu'))\r\n",
        "model.add(Dense(12, activation= 'relu'))\r\n",
        "model.add(Dense(8, activation= 'relu'))\r\n",
        "model.add(Dense(1, activation= 'sigmoid'))"
      ],
      "execution_count": 29,
      "outputs": []
    },
    {
      "cell_type": "code",
      "metadata": {
        "id": "aCRqhd_NlpXT"
      },
      "source": [
        "# 모델 컴파일\r\n",
        "model.compile(loss='binary_crossentropy', optimizer='adam', metrics=['accuracy'])"
      ],
      "execution_count": 30,
      "outputs": []
    },
    {
      "cell_type": "code",
      "metadata": {
        "id": "TdZ45GDOoK19"
      },
      "source": [
        "# 모델 저장 폴더 설정\r\n",
        "MODEL_DIR = './model/'\r\n",
        "if not os.path.exists(MODEL_DIR):\r\n",
        "  os.mkdir(MODEL_DIR)"
      ],
      "execution_count": 31,
      "outputs": []
    },
    {
      "cell_type": "code",
      "metadata": {
        "id": "gZd4f9AroyJD"
      },
      "source": [
        "# 모델 저장 조건 설정\r\n",
        "modelpath=\"./model/{epoch:02d}-{val_loss:.4f}.hdf5\"\r\n",
        "checkpointer = ModelCheckpoint(filepath=modelpath, monitor='val_loss', verbose=1, save_best_only=True)"
      ],
      "execution_count": 32,
      "outputs": []
    },
    {
      "cell_type": "code",
      "metadata": {
        "id": "4U9exNBKvM6X"
      },
      "source": [
        "# 학습 자동 중단 설정\r\n",
        "early_stopping_callback = EarlyStopping(monitor='val_boss', patience=100)"
      ],
      "execution_count": 33,
      "outputs": []
    },
    {
      "cell_type": "code",
      "metadata": {
        "id": "yCOYbOfCl7Nd"
      },
      "source": [
        "# 모델 실행\r\n",
        "history = model.fit(X, Y, validation_split=0.2, epochs=3500, batch_size=500, verbose=0, callbacks=[early_stopping_callback, checkpointer])\r\n",
        "# 결과 출력\r\n",
        "# print(\"\\n Accuracy: %.4f\" % (model.evaluate(X, Y)[1]))"
      ],
      "execution_count": null,
      "outputs": []
    },
    {
      "cell_type": "code",
      "metadata": {
        "id": "euNBOnrImRgl"
      },
      "source": [
        "# y_vloss에 테스트셋으로 실험 결과의 오차 값을 저장\r\n",
        "y_vloss=history.history['val_loss']"
      ],
      "execution_count": 38,
      "outputs": []
    },
    {
      "cell_type": "code",
      "metadata": {
        "id": "yEnVOKxOstFD"
      },
      "source": [
        "# y_acc에 학습셋으로 측정한 정확도의 값을 저장\r\n",
        "y_acc=history.history['accuracy']"
      ],
      "execution_count": 39,
      "outputs": []
    },
    {
      "cell_type": "code",
      "metadata": {
        "colab": {
          "base_uri": "https://localhost:8080/",
          "height": 265
        },
        "id": "Ves8brnjtFsu",
        "outputId": "2ba6eaed-bdd1-422a-b11c-c16f1c0fecf3"
      },
      "source": [
        "# x값을 지정하고 정확도를 파란색으로, 오차를 빨간색으로 표시\r\n",
        "x_len = numpy.arange(len(y_acc))\r\n",
        "plt.plot(x_len, y_vloss, \"o\", c=\"red\", markersize=3)\r\n",
        "plt.plot(x_len, y_acc, \"o\", c=\"blue\", markersize=3)\r\n",
        "plt.show()"
      ],
      "execution_count": 40,
      "outputs": [
        {
          "output_type": "display_data",
          "data": {
            "image/png": "[encoded data removed]",
            "text/plain": [
              "<Figure size 432x288 with 1 Axes>"
            ]
          },
          "metadata": {
            "tags": [],
            "needs_background": "light"
          }
        }
      ]
    }
  ]
}