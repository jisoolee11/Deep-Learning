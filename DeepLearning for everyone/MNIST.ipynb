{
  "nbformat": 4,
  "nbformat_minor": 0,
  "metadata": {
    "colab": {
      "name": "MNIST.ipynb",
      "provenance": [],
      "collapsed_sections": [],
      "authorship_tag": "ABX9TyOcX9ORkbYVddRt7pGdK9Ay",
      "include_colab_link": true
    },
    "kernelspec": {
      "display_name": "Python 3",
      "name": "python3"
    }
  },
  "cells": [
    {
      "cell_type": "markdown",
      "metadata": {
        "id": "view-in-github",
        "colab_type": "text"
      },
      "source": [
        "<a href=\"https://colab.research.google.com/github/jisoolee11/Deep-Learning/blob/main/DeepLearning%20for%20everyone/MNIST.ipynb\" target=\"_parent\"><img src=\"https://colab.research.google.com/assets/colab-badge.svg\" alt=\"Open In Colab\"/></a>"
      ]
    },
    {
      "cell_type": "markdown",
      "metadata": {
        "id": "K4DMlCmy10_d"
      },
      "source": [
        "<h1>MNIST 손글씨 인식하기(CNN)"
      ]
    },
    {
      "cell_type": "code",
      "metadata": {
        "id": "oYen5HG83Qcq"
      },
      "source": [
        "from keras.datasets import mnist\r\n",
        "from keras.utils import np_utils\r\n",
        "from keras.models import Sequential\r\n",
        "from keras.layers import Dense, Dropout,Flatten, Conv2D,MaxPooling2D\r\n",
        "from keras.callbacks import ModelCheckpoint, EarlyStopping\r\n",
        "\r\n",
        "import matplotlib.pyplot as plt\r\n",
        "import numpy\r\n",
        "import os\r\n",
        "import tensorflow as tf"
      ],
      "execution_count": null,
      "outputs": []
    },
    {
      "cell_type": "code",
      "metadata": {
        "id": "llGx0qO14Jpd"
      },
      "source": [
        "# seed값 걸정\r\n",
        "seed = 0 \r\n",
        "numpy.random.seed(seed)\r\n",
        "tf.random.set_seed(3)"
      ],
      "execution_count": null,
      "outputs": []
    },
    {
      "cell_type": "code",
      "metadata": {
        "colab": {
          "base_uri": "https://localhost:8080/"
        },
        "id": "69hgiubJ4c80",
        "outputId": "1761c093-b0d0-45e1-a5ea-28ef6785b748"
      },
      "source": [
        "# 데이터 불러오기\r\n",
        "(X_train, Y_train), (X_test, Y_test) = mnist.load_data()\r\n",
        "X_train = X_train.reshape(X_train.shape[0], 28, 28, 1).astype('float32') / 255\r\n",
        "X_test = X_test.reshape(X_test.shape[0], 28, 28, 1).astype('float32') / 255\r\n",
        "Y_train = np_utils.to_categorical(Y_train)\r\n",
        "Y_test = np_utils.to_categorical(Y_test)"
      ],
      "execution_count": null,
      "outputs": [
        {
          "output_type": "stream",
          "text": [
            "Downloading data from https://storage.googleapis.com/tensorflow/tf-keras-datasets/mnist.npz\n",
            "11493376/11490434 [==============================] - 0s 0us/step\n"
          ],
          "name": "stdout"
        }
      ]
    },
    {
      "cell_type": "code",
      "metadata": {
        "id": "5rQK5ZZG5Ebk"
      },
      "source": [
        "# 컨볼루션 신경망 설정\r\n",
        "model = Sequential()\r\n",
        "model.add(Conv2D(32, kernel_size=(3, 3), input_shape=(28, 28, 1), activation='relu'))\r\n",
        "model.add(Conv2D(64, (3, 3), activation='relu'))\r\n",
        "model.add(MaxPooling2D(pool_size=2))\r\n",
        "model.add(Dropout(0.25))\r\n",
        "model.add(Flatten())\r\n",
        "model.add(Dense(128, activation='relu'))\r\n",
        "model.add(Dropout(0.5))\r\n",
        "model.add(Dense(10, activation='softmax'))\r\n",
        "model.compile(loss='categorical_crossentropy', optimizer='adam', metrics=['accuracy'])"
      ],
      "execution_count": null,
      "outputs": []
    },
    {
      "cell_type": "code",
      "metadata": {
        "id": "LK4hMrA16NGI"
      },
      "source": [
        "# 모델 최적화 설정\r\n",
        "MODEL_DIR = './model/'\r\n",
        "if not os.path.exists(MODEL_DIR):\r\n",
        "  os.mkdir(MODEL_DIR)\r\n",
        "\r\n",
        "modelpath=\"./model/{epoch:02d}-{val_loss:4f}.hdf5\"\r\n",
        "checkpointer = ModelCheckpoint(filepath=modelpath, monitor='val_loss', verbose=1, save_best_only=True)\r\n",
        "early_stopping_callback = EarlyStopping(monitor='val_loss', patience=10)"
      ],
      "execution_count": null,
      "outputs": []
    },
    {
      "cell_type": "code",
      "metadata": {
        "colab": {
          "background_save": true,
          "base_uri": "https://localhost:8080/"
        },
        "id": "HZU9f6Sq7CV-",
        "outputId": "f1a74f1f-07aa-4471-8428-83d8dd6d18d1"
      },
      "source": [
        "# 모델의 실행\r\n",
        "history = model.fit(X_train, Y_train, validation_data=(X_test, Y_test), epochs=30, batch_size=200, verbose=0, callbacks=[early_stopping_callback, checkpointer])"
      ],
      "execution_count": null,
      "outputs": [
        {
          "output_type": "stream",
          "text": [
            "\n",
            "Epoch 00001: val_loss improved from inf to 0.05278, saving model to ./model/01-0.052782.hdf5\n",
            "\n",
            "Epoch 00002: val_loss improved from 0.05278 to 0.03855, saving model to ./model/02-0.038551.hdf5\n",
            "\n",
            "Epoch 00003: val_loss improved from 0.03855 to 0.03401, saving model to ./model/03-0.034014.hdf5\n",
            "\n",
            "Epoch 00004: val_loss improved from 0.03401 to 0.03118, saving model to ./model/04-0.031176.hdf5\n",
            "\n",
            "Epoch 00005: val_loss improved from 0.03118 to 0.02945, saving model to ./model/05-0.029451.hdf5\n",
            "\n",
            "Epoch 00006: val_loss improved from 0.02945 to 0.02943, saving model to ./model/06-0.029432.hdf5\n",
            "\n",
            "Epoch 00007: val_loss improved from 0.02943 to 0.02908, saving model to ./model/07-0.029082.hdf5\n",
            "\n",
            "Epoch 00008: val_loss did not improve from 0.02908\n",
            "\n",
            "Epoch 00009: val_loss did not improve from 0.02908\n",
            "\n",
            "Epoch 00010: val_loss did not improve from 0.02908\n",
            "\n",
            "Epoch 00011: val_loss did not improve from 0.02908\n",
            "\n",
            "Epoch 00012: val_loss improved from 0.02908 to 0.02698, saving model to ./model/12-0.026983.hdf5\n",
            "\n",
            "Epoch 00013: val_loss improved from 0.02698 to 0.02323, saving model to ./model/13-0.023232.hdf5\n",
            "\n",
            "Epoch 00014: val_loss did not improve from 0.02323\n",
            "\n",
            "Epoch 00015: val_loss did not improve from 0.02323\n",
            "\n",
            "Epoch 00016: val_loss did not improve from 0.02323\n",
            "\n",
            "Epoch 00017: val_loss did not improve from 0.02323\n",
            "\n",
            "Epoch 00018: val_loss did not improve from 0.02323\n",
            "\n",
            "Epoch 00019: val_loss did not improve from 0.02323\n",
            "\n",
            "Epoch 00020: val_loss did not improve from 0.02323\n",
            "\n",
            "Epoch 00021: val_loss did not improve from 0.02323\n",
            "\n",
            "Epoch 00022: val_loss did not improve from 0.02323\n",
            "\n",
            "Epoch 00023: val_loss did not improve from 0.02323\n"
          ],
          "name": "stdout"
        }
      ]
    },
    {
      "cell_type": "code",
      "metadata": {
        "colab": {
          "background_save": true
        },
        "id": "94JviT9H7bqh",
        "outputId": "83b0d04d-0a65-4bb1-9595-d6c02360a494"
      },
      "source": [
        "# 테스트 정확도 출력\r\n",
        "print(\"\\n Test Accuracy: %.4f\" % (model.evaluate(X_test, Y_test)[1]))"
      ],
      "execution_count": null,
      "outputs": [
        {
          "output_type": "stream",
          "text": [
            "313/313 [==============================] - 6s 20ms/step - loss: 0.0275 - accuracy: 0.9936\n",
            "\n",
            " Test Accuracy: 0.9936\n"
          ],
          "name": "stdout"
        }
      ]
    },
    {
      "cell_type": "code",
      "metadata": {
        "colab": {
          "background_save": true
        },
        "id": "NShUgq2k7tvY"
      },
      "source": [
        "# 테스트셋의 오차\r\n",
        "y_vloss = history.history['val_loss']"
      ],
      "execution_count": null,
      "outputs": []
    },
    {
      "cell_type": "code",
      "metadata": {
        "colab": {
          "background_save": true
        },
        "id": "AZAsBay8725L"
      },
      "source": [
        "# 학습셋의 오차\r\n",
        "y_loss = history.history['loss']"
      ],
      "execution_count": null,
      "outputs": []
    },
    {
      "cell_type": "code",
      "metadata": {
        "colab": {
          "background_save": true
        },
        "id": "ti-ooaFr8Vi5",
        "outputId": "27b54478-38a6-45f2-c548-a33ad748c760"
      },
      "source": [
        "# 그래프로 표현\r\n",
        "x_len = numpy.arange(len(y_loss))\r\n",
        "plt.plot(x_len, y_vloss, marker='.', c=\"red\", label='Testset_loss')\r\n",
        "plt.plot(x_len, y_loss, marker='.', c=\"blue\", label='Trainset_loss')\r\n",
        "# 그래프에 그리드를 주고 레이블을 표시\r\n",
        "plt.legend(loc='upper right')\r\n",
        "plt.grid()\r\n",
        "plt.xlabel('epoch')\r\n",
        "plt.ylabel('loss')\r\n",
        "plt.show()"
      ],
      "execution_count": null,
      "outputs": [
        {
          "output_type": "display_data",
          "data": {
            "image/png": "[encoded data removed]",
            "text/plain": [
              "<Figure size 432x288 with 1 Axes>"
            ]
          },
          "metadata": {
            "tags": []
          }
        }
      ]
    }
  ]
}