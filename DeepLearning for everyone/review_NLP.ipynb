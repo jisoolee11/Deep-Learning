{
  "nbformat": 4,
  "nbformat_minor": 0,
  "metadata": {
    "colab": {
      "name": "review_NLP.ipynb",
      "provenance": [],
      "collapsed_sections": [],
      "authorship_tag": "ABX9TyOP7w92tgClgr7p+PhtSwJM",
      "include_colab_link": true
    },
    "kernelspec": {
      "name": "python3",
      "display_name": "Python 3"
    }
  },
  "cells": [
    {
      "cell_type": "markdown",
      "metadata": {
        "id": "view-in-github",
        "colab_type": "text"
      },
      "source": [
        "<a href=\"https://colab.research.google.com/github/jisoolee11/Deep-Learning/blob/main/DeepLearning%20for%20everyone/review_NLP.ipynb\" target=\"_parent\"><img src=\"https://colab.research.google.com/assets/colab-badge.svg\" alt=\"Open In Colab\"/></a>"
      ]
    },
    {
      "cell_type": "markdown",
      "metadata": {
        "id": "5UoVs7CF2icG"
      },
      "source": [
        "<h1>영화리뷰가 긍정적인지 부정적인지 예측하기"
      ]
    },
    {
      "cell_type": "code",
      "metadata": {
        "id": "eAUXVOVV9E4f"
      },
      "source": [
        "import numpy\r\n",
        "import tensorflow as tf\r\n",
        "from numpy import array\r\n",
        "from tensorflow.keras.preprocessing.text import Tokenizer\r\n",
        "from tensorflow.keras.preprocessing.sequence import pad_sequences\r\n",
        "from tensorflow.keras.models import Sequential\r\n",
        "from tensorflow.keras.layers import Dense, Flatten, Embedding "
      ],
      "execution_count": null,
      "outputs": []
    },
    {
      "cell_type": "code",
      "metadata": {
        "id": "ga729SE_92Q2"
      },
      "source": [
        "# 텍스트 리뷰 자료 지정\r\n",
        "docs = ['너무 재밌네요', '최고예요', '참 잘 만든 영화예요', '추천하고 싶은 영화입니다', '한번 더 보고싶네요', '글쎄요', '별로예요', '생각보다 지루하네요', '연기가 어색해요', '재미없어요']"
      ],
      "execution_count": null,
      "outputs": []
    },
    {
      "cell_type": "code",
      "metadata": {
        "id": "A7RRj21i-UIw"
      },
      "source": [
        "# 긍정 리뷰는 1, 부정 리뷰는 0으로 클래스 지정\r\n",
        "classes = array([1, 1, 1, 1, 1, 0, 0, 0, 0, 0]) "
      ],
      "execution_count": null,
      "outputs": []
    },
    {
      "cell_type": "code",
      "metadata": {
        "colab": {
          "base_uri": "https://localhost:8080/"
        },
        "id": "duakgN5Z-hFe",
        "outputId": "c38df8d4-beb5-4070-a92d-6e5374c20881"
      },
      "source": [
        "# 토큰화\r\n",
        "token = Tokenizer()\r\n",
        "token.fit_on_texts(docs)\r\n",
        "print(token.word_index)"
      ],
      "execution_count": null,
      "outputs": [
        {
          "output_type": "stream",
          "text": [
            "{'너무': 1, '재밌네요': 2, '최고예요': 3, '참': 4, '잘': 5, '만든': 6, '영화예요': 7, '추천하고': 8, '싶은': 9, '영화입니다': 10, '한번': 11, '더': 12, '보고싶네요': 13, '글쎄요': 14, '별로예요': 15, '생각보다': 16, '지루하네요': 17, '연기가': 18, '어색해요': 19, '재미없어요': 20}\n"
          ],
          "name": "stdout"
        }
      ]
    },
    {
      "cell_type": "code",
      "metadata": {
        "colab": {
          "base_uri": "https://localhost:8080/"
        },
        "id": "U34TQCW0-ttN",
        "outputId": "d3b9b0fa-d408-410c-ff71-d02f1c2ed405"
      },
      "source": [
        "# 패딩, 서로 다른 길이의 데이터를 4로 맞춤\r\n",
        "x = token.texts_to_sequences(docs)\r\n",
        "padded_x =pad_sequences(x, 4)\r\n",
        "print(padded_x)"
      ],
      "execution_count": null,
      "outputs": [
        {
          "output_type": "stream",
          "text": [
            "[[ 0  0  1  2]\n",
            " [ 0  0  0  3]\n",
            " [ 4  5  6  7]\n",
            " [ 0  8  9 10]\n",
            " [ 0 11 12 13]\n",
            " [ 0  0  0 14]\n",
            " [ 0  0  0 15]\n",
            " [ 0  0 16 17]\n",
            " [ 0  0 18 19]\n",
            " [ 0  0  0 20]]\n"
          ],
          "name": "stdout"
        }
      ]
    },
    {
      "cell_type": "code",
      "metadata": {
        "id": "8fpLfc2w-_YO"
      },
      "source": [
        "# 임베딩에 입력될 단어 수 지정\r\n",
        "word_size = len(token.word_index)+1"
      ],
      "execution_count": null,
      "outputs": []
    },
    {
      "cell_type": "code",
      "metadata": {
        "colab": {
          "base_uri": "https://localhost:8080/"
        },
        "id": "5LucySEA_laP",
        "outputId": "3dff8ccd-ea8f-4d50-f8d0-8b0cfc583dc9"
      },
      "source": [
        "# 단어 임베딩을 포함하여 딥러닝 모델을 만들고 결과 출력\r\n",
        "model = Sequential()\r\n",
        "model.add(Embedding(word_size, 8, input_length=4))\r\n",
        "model.add(Flatten())\r\n",
        "model.add(Dense(1, activation='sigmoid'))\r\n",
        "model.compile(optimizer='adam', loss='binary_crossentropy', metrics=['accuracy'])\r\n",
        "model.fit(padded_x, classes, epochs=20)\r\n",
        "\r\n",
        "print(\"\\n Accuracy: %.4f\" % (model.evaluate(padded_x, classes)[1]))"
      ],
      "execution_count": null,
      "outputs": [
        {
          "output_type": "stream",
          "text": [
            "Epoch 1/20\n",
            "1/1 [==============================] - 1s 767ms/step - loss: 0.6932 - accuracy: 0.5000\n",
            "Epoch 2/20\n",
            "1/1 [==============================] - 0s 3ms/step - loss: 0.6911 - accuracy: 0.5000\n",
            "Epoch 3/20\n",
            "1/1 [==============================] - 0s 3ms/step - loss: 0.6889 - accuracy: 0.5000\n",
            "Epoch 4/20\n",
            "1/1 [==============================] - 0s 3ms/step - loss: 0.6868 - accuracy: 0.5000\n",
            "Epoch 5/20\n",
            "1/1 [==============================] - 0s 4ms/step - loss: 0.6847 - accuracy: 0.5000\n",
            "Epoch 6/20\n",
            "1/1 [==============================] - 0s 3ms/step - loss: 0.6826 - accuracy: 0.6000\n",
            "Epoch 7/20\n",
            "1/1 [==============================] - 0s 3ms/step - loss: 0.6805 - accuracy: 0.6000\n",
            "Epoch 8/20\n",
            "1/1 [==============================] - 0s 7ms/step - loss: 0.6784 - accuracy: 0.6000\n",
            "Epoch 9/20\n",
            "1/1 [==============================] - 0s 8ms/step - loss: 0.6763 - accuracy: 0.7000\n",
            "Epoch 10/20\n",
            "1/1 [==============================] - 0s 4ms/step - loss: 0.6741 - accuracy: 0.8000\n",
            "Epoch 11/20\n",
            "1/1 [==============================] - 0s 4ms/step - loss: 0.6720 - accuracy: 0.8000\n",
            "Epoch 12/20\n",
            "1/1 [==============================] - 0s 4ms/step - loss: 0.6699 - accuracy: 1.0000\n",
            "Epoch 13/20\n",
            "1/1 [==============================] - 0s 8ms/step - loss: 0.6678 - accuracy: 1.0000\n",
            "Epoch 14/20\n",
            "1/1 [==============================] - 0s 7ms/step - loss: 0.6657 - accuracy: 1.0000\n",
            "Epoch 15/20\n",
            "1/1 [==============================] - 0s 5ms/step - loss: 0.6636 - accuracy: 1.0000\n",
            "Epoch 16/20\n",
            "1/1 [==============================] - 0s 5ms/step - loss: 0.6614 - accuracy: 1.0000\n",
            "Epoch 17/20\n",
            "1/1 [==============================] - 0s 5ms/step - loss: 0.6593 - accuracy: 1.0000\n",
            "Epoch 18/20\n",
            "1/1 [==============================] - 0s 5ms/step - loss: 0.6572 - accuracy: 1.0000\n",
            "Epoch 19/20\n",
            "1/1 [==============================] - 0s 4ms/step - loss: 0.6550 - accuracy: 1.0000\n",
            "Epoch 20/20\n",
            "1/1 [==============================] - 0s 4ms/step - loss: 0.6529 - accuracy: 1.0000\n",
            "1/1 [==============================] - 0s 128ms/step - loss: 0.6507 - accuracy: 1.0000\n",
            "\n",
            " Accuracy: 1.0000\n"
          ],
          "name": "stdout"
        }
      ]
    }
  ]
}