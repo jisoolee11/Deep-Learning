{
  "nbformat": 4,
  "nbformat_minor": 0,
  "metadata": {
    "colab": {
      "name": "Reuters News.ipynb",
      "provenance": [],
      "authorship_tag": "ABX9TyMAop3FiWY9vJEZ18OTsIkj",
      "include_colab_link": true
    },
    "kernelspec": {
      "name": "python3",
      "display_name": "Python 3"
    }
  },
  "cells": [
    {
      "cell_type": "markdown",
      "metadata": {
        "id": "view-in-github",
        "colab_type": "text"
      },
      "source": [
        "<a href=\"https://colab.research.google.com/github/jisoolee11/Deep-Learning/blob/main/DeepLearning%20for%20everyone/Reuters_News.ipynb\" target=\"_parent\"><img src=\"https://colab.research.google.com/assets/colab-badge.svg\" alt=\"Open In Colab\"/></a>"
      ]
    },
    {
      "cell_type": "markdown",
      "metadata": {
        "id": "mM9G4UuEGJIe"
      },
      "source": [
        "<h1>LSTM을 이용해 로이터 뉴스 카테고리 분석하기"
      ]
    },
    {
      "cell_type": "code",
      "metadata": {
        "id": "ksPo2pCUGBh1"
      },
      "source": [
        "from keras.datasets import reuters\r\n",
        "from keras.models import Sequential\r\n",
        "from keras.layers import Dense, LSTM, Embedding\r\n",
        "from keras.preprocessing import sequence\r\n",
        "from keras.utils import np_utils\r\n",
        "\r\n",
        "import numpy\r\n",
        "import tensorflow as tf\r\n",
        "import matplotlib.pyplot as plt"
      ],
      "execution_count": 25,
      "outputs": []
    },
    {
      "cell_type": "code",
      "metadata": {
        "id": "aKVDUz3ZGwaA"
      },
      "source": [
        "# seed값 설정\r\n",
        "seed = 0\r\n",
        "numpy.random.seed(seed)\r\n",
        "tf.random.set_seed(3)"
      ],
      "execution_count": 26,
      "outputs": []
    },
    {
      "cell_type": "code",
      "metadata": {
        "colab": {
          "base_uri": "https://localhost:8080/"
        },
        "id": "zgO0AdiVHFh-",
        "outputId": "951f9000-8279-4a85-c548-f52c75216b6c"
      },
      "source": [
        "# 불러온 데이터를 학습셋과 테스트셋으로 나누기\r\n",
        "(X_train, Y_train), (X_test, Y_test) = reuters.load_data(num_words=1000, test_split=0.2)"
      ],
      "execution_count": 27,
      "outputs": [
        {
          "output_type": "stream",
          "text": [
            "/usr/local/lib/python3.6/dist-packages/tensorflow/python/keras/datasets/reuters.py:148: VisibleDeprecationWarning: Creating an ndarray from ragged nested sequences (which is a list-or-tuple of lists-or-tuples-or ndarrays with different lengths or shapes) is deprecated. If you meant to do this, you must specify 'dtype=object' when creating the ndarray\n",
            "  x_train, y_train = np.array(xs[:idx]), np.array(labels[:idx])\n",
            "/usr/local/lib/python3.6/dist-packages/tensorflow/python/keras/datasets/reuters.py:149: VisibleDeprecationWarning: Creating an ndarray from ragged nested sequences (which is a list-or-tuple of lists-or-tuples-or ndarrays with different lengths or shapes) is deprecated. If you meant to do this, you must specify 'dtype=object' when creating the ndarray\n",
            "  x_test, y_test = np.array(xs[idx:]), np.array(labels[idx:])\n"
          ],
          "name": "stderr"
        }
      ]
    },
    {
      "cell_type": "code",
      "metadata": {
        "colab": {
          "base_uri": "https://localhost:8080/"
        },
        "id": "LfYdOFqlHY4l",
        "outputId": "dbdc2051-89f0-4f66-8c48-cd09380c936a"
      },
      "source": [
        "# 데이터 확인하기\r\n",
        "category = numpy.max(Y_train) + 1\r\n",
        "print(category, '카테고리')\r\n",
        "print(len(X_train), '학습용 뉴스 기사')\r\n",
        "print(len(X_test), '테스트용 뉴스 기사')\r\n",
        "print(X_train[0])"
      ],
      "execution_count": 28,
      "outputs": [
        {
          "output_type": "stream",
          "text": [
            "46 카테고리\n",
            "8982 학습용 뉴스 기사\n",
            "2246 테스트용 뉴스 기사\n",
            "[1, 2, 2, 8, 43, 10, 447, 5, 25, 207, 270, 5, 2, 111, 16, 369, 186, 90, 67, 7, 89, 5, 19, 102, 6, 19, 124, 15, 90, 67, 84, 22, 482, 26, 7, 48, 4, 49, 8, 864, 39, 209, 154, 6, 151, 6, 83, 11, 15, 22, 155, 11, 15, 7, 48, 9, 2, 2, 504, 6, 258, 6, 272, 11, 15, 22, 134, 44, 11, 15, 16, 8, 197, 2, 90, 67, 52, 29, 209, 30, 32, 132, 6, 109, 15, 17, 12]\n"
          ],
          "name": "stdout"
        }
      ]
    },
    {
      "cell_type": "code",
      "metadata": {
        "id": "-dWZ4VzXHyvB"
      },
      "source": [
        "# 데이터 전처리\r\n",
        "x_train = sequence.pad_sequences(X_train, maxlen=100)\r\n",
        "x_test = sequence.pad_sequences(X_test, maxlen=100)\r\n",
        "y_train = np_utils.to_categorical(Y_train)\r\n",
        "y_test = np_utils.to_categorical(Y_test)"
      ],
      "execution_count": 29,
      "outputs": []
    },
    {
      "cell_type": "code",
      "metadata": {
        "id": "wfh__YDpIfz9"
      },
      "source": [
        "# 모델의 설정\r\n",
        "model = Sequential()\r\n",
        "model.add(Embedding(1000, 100))\r\n",
        "model.add(LSTM(100, activation='tanh'))\r\n",
        "model.add(Dense(46, activation='softmax'))"
      ],
      "execution_count": 30,
      "outputs": []
    },
    {
      "cell_type": "code",
      "metadata": {
        "id": "-SyqQZJ1I0LZ"
      },
      "source": [
        "# 모델 컴파일\r\n",
        "model.compile(loss='categorical_crossentropy', optimizer='adam', metrics=['accuracy'])"
      ],
      "execution_count": 31,
      "outputs": []
    },
    {
      "cell_type": "code",
      "metadata": {
        "colab": {
          "base_uri": "https://localhost:8080/"
        },
        "id": "gyyzh2nBJFyT",
        "outputId": "a6bcefac-3735-4586-e986-454281a36f7b"
      },
      "source": [
        "# 모델의 실행\r\n",
        "history = model.fit(x_train, y_train, batch_size=100, epochs=20, validation_data=(x_test, y_test))"
      ],
      "execution_count": 32,
      "outputs": [
        {
          "output_type": "stream",
          "text": [
            "Epoch 1/20\n",
            "90/90 [==============================] - 22s 227ms/step - loss: 2.9665 - accuracy: 0.3179 - val_loss: 2.1698 - val_accuracy: 0.4488\n",
            "Epoch 2/20\n",
            "90/90 [==============================] - 20s 227ms/step - loss: 2.0573 - accuracy: 0.4786 - val_loss: 1.9681 - val_accuracy: 0.5089\n",
            "Epoch 3/20\n",
            "90/90 [==============================] - 21s 229ms/step - loss: 1.8667 - accuracy: 0.5175 - val_loss: 1.7988 - val_accuracy: 0.5303\n",
            "Epoch 4/20\n",
            "90/90 [==============================] - 20s 226ms/step - loss: 1.7033 - accuracy: 0.5598 - val_loss: 1.7079 - val_accuracy: 0.5614\n",
            "Epoch 5/20\n",
            "90/90 [==============================] - 20s 225ms/step - loss: 1.7047 - accuracy: 0.5564 - val_loss: 1.7053 - val_accuracy: 0.5784\n",
            "Epoch 6/20\n",
            "90/90 [==============================] - 20s 219ms/step - loss: 1.6033 - accuracy: 0.5977 - val_loss: 1.6077 - val_accuracy: 0.5926\n",
            "Epoch 7/20\n",
            "90/90 [==============================] - 21s 238ms/step - loss: 1.5513 - accuracy: 0.6031 - val_loss: 1.5694 - val_accuracy: 0.6273\n",
            "Epoch 8/20\n",
            "90/90 [==============================] - 21s 235ms/step - loss: 1.3999 - accuracy: 0.6478 - val_loss: 1.4765 - val_accuracy: 0.6394\n",
            "Epoch 9/20\n",
            "90/90 [==============================] - 20s 227ms/step - loss: 1.3104 - accuracy: 0.6708 - val_loss: 1.4229 - val_accuracy: 0.6425\n",
            "Epoch 10/20\n",
            "90/90 [==============================] - 20s 222ms/step - loss: 1.2474 - accuracy: 0.6872 - val_loss: 1.3637 - val_accuracy: 0.6541\n",
            "Epoch 11/20\n",
            "90/90 [==============================] - 20s 221ms/step - loss: 1.2057 - accuracy: 0.6917 - val_loss: 1.3148 - val_accuracy: 0.6785\n",
            "Epoch 12/20\n",
            "90/90 [==============================] - 20s 217ms/step - loss: 1.1188 - accuracy: 0.7188 - val_loss: 1.2850 - val_accuracy: 0.6785\n",
            "Epoch 13/20\n",
            "90/90 [==============================] - 19s 215ms/step - loss: 1.0380 - accuracy: 0.7350 - val_loss: 1.2513 - val_accuracy: 0.6866\n",
            "Epoch 14/20\n",
            "90/90 [==============================] - 20s 222ms/step - loss: 1.0282 - accuracy: 0.7301 - val_loss: 1.2380 - val_accuracy: 0.6919\n",
            "Epoch 15/20\n",
            "90/90 [==============================] - 20s 218ms/step - loss: 0.9924 - accuracy: 0.7469 - val_loss: 1.2426 - val_accuracy: 0.6977\n",
            "Epoch 16/20\n",
            "90/90 [==============================] - 19s 213ms/step - loss: 0.9493 - accuracy: 0.7524 - val_loss: 1.2476 - val_accuracy: 0.6825\n",
            "Epoch 17/20\n",
            "90/90 [==============================] - 19s 216ms/step - loss: 0.8659 - accuracy: 0.7754 - val_loss: 1.2219 - val_accuracy: 0.6977\n",
            "Epoch 18/20\n",
            "90/90 [==============================] - 19s 214ms/step - loss: 0.7992 - accuracy: 0.7941 - val_loss: 1.2328 - val_accuracy: 0.6959\n",
            "Epoch 19/20\n",
            "90/90 [==============================] - 20s 220ms/step - loss: 0.8059 - accuracy: 0.7988 - val_loss: 1.2457 - val_accuracy: 0.6950\n",
            "Epoch 20/20\n",
            "90/90 [==============================] - 20s 220ms/step - loss: 0.7934 - accuracy: 0.7932 - val_loss: 1.2148 - val_accuracy: 0.7155\n"
          ],
          "name": "stdout"
        }
      ]
    },
    {
      "cell_type": "code",
      "metadata": {
        "colab": {
          "base_uri": "https://localhost:8080/"
        },
        "id": "Ov5Zqz8iJV_F",
        "outputId": "b8980295-62c0-42de-f1c9-fee7398b399a"
      },
      "source": [
        "# 테스트 정확도 출력\r\n",
        "print(\"\\n Test Accuracy: %.4f\" % (model.evaluate(x_test, y_test)[1]))"
      ],
      "execution_count": 33,
      "outputs": [
        {
          "output_type": "stream",
          "text": [
            "71/71 [==============================] - 2s 22ms/step - loss: 1.2148 - accuracy: 0.7155\n",
            "\n",
            " Test Accuracy: 0.7155\n"
          ],
          "name": "stdout"
        }
      ]
    },
    {
      "cell_type": "code",
      "metadata": {
        "id": "3-4-zQYnJqPq"
      },
      "source": [
        "# 테스트셋의 오차\r\n",
        "y_vloss = history.history['val_loss']"
      ],
      "execution_count": 34,
      "outputs": []
    },
    {
      "cell_type": "code",
      "metadata": {
        "id": "3ohp7QoHJ183"
      },
      "source": [
        "# 학습셋의 오차\r\n",
        "y_loss = history.history['loss']"
      ],
      "execution_count": 35,
      "outputs": []
    },
    {
      "cell_type": "code",
      "metadata": {
        "colab": {
          "base_uri": "https://localhost:8080/",
          "height": 279
        },
        "id": "HFEKLXwBJ-Dq",
        "outputId": "454e1f38-a7a5-4066-f0a1-102a79794fd0"
      },
      "source": [
        "# 그래프로 표현\r\n",
        "x_len = numpy.arange(len(y_loss))\r\n",
        "plt.plot(x_len, y_vloss, marker='.', c='red', label='Testset_loss')\r\n",
        "plt.plot(x_len, y_loss, marker='.', c='blue', label='Trainset_loss')\r\n",
        "# 그래프에 그리드를 추가하고 레이블을 표시\r\n",
        "plt.legend(loc='upper right')\r\n",
        "plt.grid()\r\n",
        "plt.xlabel('epoch')\r\n",
        "plt.ylabel('loss')\r\n",
        "plt.show()"
      ],
      "execution_count": 36,
      "outputs": [
        {
          "output_type": "display_data",
          "data": {
            "image/png": "[encoded data removed]",
            "text/plain": [
              "<Figure size 432x288 with 1 Axes>"
            ]
          },
          "metadata": {
            "tags": [],
            "needs_background": "light"
          }
        }
      ]
    }
  ]
}