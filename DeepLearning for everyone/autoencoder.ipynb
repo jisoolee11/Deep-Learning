{
  "nbformat": 4,
  "nbformat_minor": 0,
  "metadata": {
    "colab": {
      "name": "autoencoder.ipynb",
      "provenance": [],
      "authorship_tag": "ABX9TyMsUkBN2uoIB/4HWiR4gJpT",
      "include_colab_link": true
    },
    "kernelspec": {
      "name": "python3",
      "display_name": "Python 3"
    }
  },
  "cells": [
    {
      "cell_type": "markdown",
      "metadata": {
        "id": "view-in-github",
        "colab_type": "text"
      },
      "source": [
        "<a href=\"https://colab.research.google.com/github/jisoolee11/Deep-Learning/blob/main/DeepLearning%20for%20everyone/autoencoder.ipynb\" target=\"_parent\"><img src=\"https://colab.research.google.com/assets/colab-badge.svg\" alt=\"Open In Colab\"/></a>"
      ]
    },
    {
      "cell_type": "markdown",
      "metadata": {
        "id": "y00H1vDgP5k-"
      },
      "source": [
        "<h1>오토인코더 학습하기"
      ]
    },
    {
      "cell_type": "code",
      "metadata": {
        "id": "cdz2jPazE8Tn"
      },
      "source": [
        "from tensorflow.keras.datasets import mnist\r\n",
        "from tensorflow.keras.models import Sequential, Model\r\n",
        "from tensorflow.keras.layers import Input, Dense, Conv2D, MaxPooling2D, UpSampling2D, Flatten, Reshape\r\n",
        "import matplotlib.pyplot as plt\r\n",
        "import numpy as np"
      ],
      "execution_count": 1,
      "outputs": []
    },
    {
      "cell_type": "code",
      "metadata": {
        "colab": {
          "base_uri": "https://localhost:8080/"
        },
        "id": "ShPHiYsfQ0Co",
        "outputId": "8abab83d-aaf8-4570-dd5d-e3da3bae26e5"
      },
      "source": [
        "# MNIST 데이터 셋을 호출\r\n",
        "(X_train, _), (X_test, _) = mnist.load_data()\r\n",
        "X_train = X_train.reshape(X_train.shape[0], 28, 28, 1).astype('float32')/255\r\n",
        "X_test = X_test.reshape(X_test.shape[0], 28, 28, 1).astype('float32')/255"
      ],
      "execution_count": 2,
      "outputs": [
        {
          "output_type": "stream",
          "text": [
            "Downloading data from https://storage.googleapis.com/tensorflow/tf-keras-datasets/mnist.npz\n",
            "11493376/11490434 [==============================] - 0s 0us/step\n"
          ],
          "name": "stdout"
        }
      ]
    },
    {
      "cell_type": "code",
      "metadata": {
        "id": "fApR2trmR7uf"
      },
      "source": [
        "# 생성자 모델 만들기\r\n",
        "autoencoder = Sequential()"
      ],
      "execution_count": 3,
      "outputs": []
    },
    {
      "cell_type": "code",
      "metadata": {
        "id": "l-NH0ZTZSBjI"
      },
      "source": [
        "# 인코딩 부분\r\n",
        "autoencoder.add(Conv2D(16, kernel_size=3, padding='same', input_shape=(28, 28, 1), activation='relu'))\r\n",
        "autoencoder.add(MaxPooling2D(pool_size=2, padding='same'))\r\n",
        "autoencoder.add(Conv2D(8, kernel_size=3, activation='relu', padding='same'))\r\n",
        "autoencoder.add(MaxPooling2D(pool_size=2, padding='same'))\r\n",
        "autoencoder.add(Conv2D(8, kernel_size=3, strides=2, padding='same', activation='relu'))"
      ],
      "execution_count": 4,
      "outputs": []
    },
    {
      "cell_type": "code",
      "metadata": {
        "id": "JdNqt8LsTVdZ"
      },
      "source": [
        "# 디코딩 부분\r\n",
        "autoencoder.add(Conv2D(8, kernel_size=3, padding='same', input_shape=(28, 28, 1), activation='relu'))\r\n",
        "autoencoder.add(UpSampling2D())\r\n",
        "autoencoder.add(Conv2D(8, kernel_size=3, activation='relu', padding='same'))\r\n",
        "autoencoder.add(UpSampling2D())\r\n",
        "autoencoder.add(Conv2D(16, kernel_size=3, activation='relu'))\r\n",
        "autoencoder.add(UpSampling2D())\r\n",
        "autoencoder.add(Conv2D(1, kernel_size=3, padding='same', activation='sigmoid'))"
      ],
      "execution_count": 5,
      "outputs": []
    },
    {
      "cell_type": "code",
      "metadata": {
        "colab": {
          "base_uri": "https://localhost:8080/"
        },
        "id": "0DDh7wk-UCMg",
        "outputId": "fc26f83d-b335-4733-bb94-469acd9faa17"
      },
      "source": [
        "# 전체 구조 확인\r\n",
        "autoencoder.summary()"
      ],
      "execution_count": 6,
      "outputs": [
        {
          "output_type": "stream",
          "text": [
            "Model: \"sequential\"\n",
            "_________________________________________________________________\n",
            "Layer (type)                 Output Shape              Param #   \n",
            "=================================================================\n",
            "conv2d (Conv2D)              (None, 28, 28, 16)        160       \n",
            "_________________________________________________________________\n",
            "max_pooling2d (MaxPooling2D) (None, 14, 14, 16)        0         \n",
            "_________________________________________________________________\n",
            "conv2d_1 (Conv2D)            (None, 14, 14, 8)         1160      \n",
            "_________________________________________________________________\n",
            "max_pooling2d_1 (MaxPooling2 (None, 7, 7, 8)           0         \n",
            "_________________________________________________________________\n",
            "conv2d_2 (Conv2D)            (None, 4, 4, 8)           584       \n",
            "_________________________________________________________________\n",
            "conv2d_3 (Conv2D)            (None, 4, 4, 8)           584       \n",
            "_________________________________________________________________\n",
            "up_sampling2d (UpSampling2D) (None, 8, 8, 8)           0         \n",
            "_________________________________________________________________\n",
            "conv2d_4 (Conv2D)            (None, 8, 8, 8)           584       \n",
            "_________________________________________________________________\n",
            "up_sampling2d_1 (UpSampling2 (None, 16, 16, 8)         0         \n",
            "_________________________________________________________________\n",
            "conv2d_5 (Conv2D)            (None, 14, 14, 16)        1168      \n",
            "_________________________________________________________________\n",
            "up_sampling2d_2 (UpSampling2 (None, 28, 28, 16)        0         \n",
            "_________________________________________________________________\n",
            "conv2d_6 (Conv2D)            (None, 28, 28, 1)         145       \n",
            "=================================================================\n",
            "Total params: 4,385\n",
            "Trainable params: 4,385\n",
            "Non-trainable params: 0\n",
            "_________________________________________________________________\n"
          ],
          "name": "stdout"
        }
      ]
    },
    {
      "cell_type": "code",
      "metadata": {
        "colab": {
          "base_uri": "https://localhost:8080/"
        },
        "id": "rvtdPT9gUJAk",
        "outputId": "2f60226d-9ac3-46d8-f416-560e7543b507"
      },
      "source": [
        "# 컴파일 및 학습을 하는 부분\r\n",
        "autoencoder.compile(optimizer='adam', loss='binary_crossentropy')\r\n",
        "autoencoder.fit(X_train, X_train, epochs=50, batch_size=128, validation_data=(X_test, X_test))"
      ],
      "execution_count": 8,
      "outputs": [
        {
          "output_type": "stream",
          "text": [
            "Epoch 1/50\n",
            "469/469 [==============================] - 79s 166ms/step - loss: 0.3046 - val_loss: 0.1326\n",
            "Epoch 2/50\n",
            "469/469 [==============================] - 78s 165ms/step - loss: 0.1288 - val_loss: 0.1183\n",
            "Epoch 3/50\n",
            "469/469 [==============================] - 78s 167ms/step - loss: 0.1170 - val_loss: 0.1115\n",
            "Epoch 4/50\n",
            "469/469 [==============================] - 78s 166ms/step - loss: 0.1106 - val_loss: 0.1063\n",
            "Epoch 5/50\n",
            "469/469 [==============================] - 78s 167ms/step - loss: 0.1061 - val_loss: 0.1030\n",
            "Epoch 6/50\n",
            "469/469 [==============================] - 79s 169ms/step - loss: 0.1030 - val_loss: 0.1008\n",
            "Epoch 7/50\n",
            "469/469 [==============================] - 79s 168ms/step - loss: 0.1007 - val_loss: 0.0977\n",
            "Epoch 8/50\n",
            "469/469 [==============================] - 78s 166ms/step - loss: 0.0988 - val_loss: 0.0963\n",
            "Epoch 9/50\n",
            "469/469 [==============================] - 78s 167ms/step - loss: 0.0971 - val_loss: 0.0951\n",
            "Epoch 10/50\n",
            "469/469 [==============================] - 79s 168ms/step - loss: 0.0958 - val_loss: 0.0944\n",
            "Epoch 11/50\n",
            "469/469 [==============================] - 79s 168ms/step - loss: 0.0948 - val_loss: 0.0928\n",
            "Epoch 12/50\n",
            "469/469 [==============================] - 78s 167ms/step - loss: 0.0937 - val_loss: 0.0921\n",
            "Epoch 13/50\n",
            "469/469 [==============================] - 78s 166ms/step - loss: 0.0931 - val_loss: 0.0921\n",
            "Epoch 14/50\n",
            "469/469 [==============================] - 79s 168ms/step - loss: 0.0922 - val_loss: 0.0908\n",
            "Epoch 15/50\n",
            "469/469 [==============================] - 78s 167ms/step - loss: 0.0920 - val_loss: 0.0902\n",
            "Epoch 16/50\n",
            "469/469 [==============================] - 79s 168ms/step - loss: 0.0913 - val_loss: 0.0897\n",
            "Epoch 17/50\n",
            "469/469 [==============================] - 78s 167ms/step - loss: 0.0909 - val_loss: 0.0896\n",
            "Epoch 18/50\n",
            "469/469 [==============================] - 77s 165ms/step - loss: 0.0904 - val_loss: 0.0895\n",
            "Epoch 19/50\n",
            "469/469 [==============================] - 77s 164ms/step - loss: 0.0901 - val_loss: 0.0886\n",
            "Epoch 20/50\n",
            "469/469 [==============================] - 77s 164ms/step - loss: 0.0896 - val_loss: 0.0886\n",
            "Epoch 21/50\n",
            "469/469 [==============================] - 77s 165ms/step - loss: 0.0894 - val_loss: 0.0881\n",
            "Epoch 22/50\n",
            "469/469 [==============================] - 77s 164ms/step - loss: 0.0893 - val_loss: 0.0877\n",
            "Epoch 23/50\n",
            "469/469 [==============================] - 77s 165ms/step - loss: 0.0886 - val_loss: 0.0874\n",
            "Epoch 24/50\n",
            "469/469 [==============================] - 77s 164ms/step - loss: 0.0885 - val_loss: 0.0875\n",
            "Epoch 25/50\n",
            "469/469 [==============================] - 77s 165ms/step - loss: 0.0883 - val_loss: 0.0876\n",
            "Epoch 26/50\n",
            "469/469 [==============================] - 77s 164ms/step - loss: 0.0879 - val_loss: 0.0868\n",
            "Epoch 27/50\n",
            "469/469 [==============================] - 78s 166ms/step - loss: 0.0878 - val_loss: 0.0873\n",
            "Epoch 28/50\n",
            "469/469 [==============================] - 77s 165ms/step - loss: 0.0877 - val_loss: 0.0864\n",
            "Epoch 29/50\n",
            "469/469 [==============================] - 77s 164ms/step - loss: 0.0874 - val_loss: 0.0861\n",
            "Epoch 30/50\n",
            "469/469 [==============================] - 77s 164ms/step - loss: 0.0871 - val_loss: 0.0859\n",
            "Epoch 31/50\n",
            "469/469 [==============================] - 78s 166ms/step - loss: 0.0867 - val_loss: 0.0860\n",
            "Epoch 32/50\n",
            "469/469 [==============================] - 77s 164ms/step - loss: 0.0865 - val_loss: 0.0854\n",
            "Epoch 33/50\n",
            "469/469 [==============================] - 77s 164ms/step - loss: 0.0865 - val_loss: 0.0855\n",
            "Epoch 34/50\n",
            "469/469 [==============================] - 77s 164ms/step - loss: 0.0861 - val_loss: 0.0849\n",
            "Epoch 35/50\n",
            "469/469 [==============================] - 78s 167ms/step - loss: 0.0861 - val_loss: 0.0855\n",
            "Epoch 36/50\n",
            "469/469 [==============================] - 78s 167ms/step - loss: 0.0859 - val_loss: 0.0846\n",
            "Epoch 37/50\n",
            "469/469 [==============================] - 79s 168ms/step - loss: 0.0856 - val_loss: 0.0845\n",
            "Epoch 38/50\n",
            "469/469 [==============================] - 77s 165ms/step - loss: 0.0854 - val_loss: 0.0843\n",
            "Epoch 39/50\n",
            "469/469 [==============================] - 78s 167ms/step - loss: 0.0852 - val_loss: 0.0842\n",
            "Epoch 40/50\n",
            "469/469 [==============================] - 78s 165ms/step - loss: 0.0852 - val_loss: 0.0840\n",
            "Epoch 41/50\n",
            "469/469 [==============================] - 78s 167ms/step - loss: 0.0851 - val_loss: 0.0842\n",
            "Epoch 42/50\n",
            "469/469 [==============================] - 78s 167ms/step - loss: 0.0850 - val_loss: 0.0838\n",
            "Epoch 43/50\n",
            "469/469 [==============================] - 79s 168ms/step - loss: 0.0847 - val_loss: 0.0845\n",
            "Epoch 44/50\n",
            "469/469 [==============================] - 78s 167ms/step - loss: 0.0848 - val_loss: 0.0837\n",
            "Epoch 45/50\n",
            "469/469 [==============================] - 79s 169ms/step - loss: 0.0845 - val_loss: 0.0834\n",
            "Epoch 46/50\n",
            "469/469 [==============================] - 79s 168ms/step - loss: 0.0846 - val_loss: 0.0836\n",
            "Epoch 47/50\n",
            "469/469 [==============================] - 79s 170ms/step - loss: 0.0844 - val_loss: 0.0833\n",
            "Epoch 48/50\n",
            "469/469 [==============================] - 79s 168ms/step - loss: 0.0842 - val_loss: 0.0833\n",
            "Epoch 49/50\n",
            "469/469 [==============================] - 78s 167ms/step - loss: 0.0842 - val_loss: 0.0834\n",
            "Epoch 50/50\n",
            "469/469 [==============================] - 79s 169ms/step - loss: 0.0841 - val_loss: 0.0834\n"
          ],
          "name": "stdout"
        },
        {
          "output_type": "execute_result",
          "data": {
            "text/plain": [
              "<tensorflow.python.keras.callbacks.History at 0x7f72790cdc50>"
            ]
          },
          "metadata": {
            "tags": []
          },
          "execution_count": 8
        }
      ]
    },
    {
      "cell_type": "code",
      "metadata": {
        "id": "m2iIsGhLUl8P"
      },
      "source": [
        "# 학습된 결과를 출력하는 부분\r\n",
        "random_test = np.random.randint(X_test.shape[0], size = 5)"
      ],
      "execution_count": 9,
      "outputs": []
    },
    {
      "cell_type": "code",
      "metadata": {
        "colab": {
          "base_uri": "https://localhost:8080/",
          "height": 138
        },
        "id": "MhC4ppyCU3C8",
        "outputId": "08d57606-f938-4b56-c0f0-9cd100fd96a9"
      },
      "source": [
        "# 테스트할 이미지를 랜덤으로 호출\r\n",
        "ae_imgs = autoencoder.predict(X_test)  #앞서 만든 오토인코더 모델에 넣기\r\n",
        "\r\n",
        "plt.figure(figsize=(7, 2)) #출력 이미지 크기 정하기\r\n",
        "\r\n",
        "for i, image_idx in enumerate(random_test):\r\n",
        "  # 랜덤으로 뽑은 이미지를 차례로 나열\r\n",
        "  ax = plt.subplot(2, 7, i + 1)\r\n",
        "  # 테스트할 이미지를 먼저 그대로 보여줌\r\n",
        "  plt.imshow(X_test[image_idx].reshape(28, 28))\r\n",
        "  ax.axis('off')\r\n",
        "  ax = plt.subplot(2, 7, 7 + i + 1)\r\n",
        "  # 오토인코딩 결과를 다음 열에 입력\r\n",
        "  plt.imshow(ae_imgs[image_idx].reshape(28, 28))\r\n",
        "  ax.axis('off')\r\n",
        "plt.show()"
      ],
      "execution_count": 10,
      "outputs": [
        {
          "output_type": "display_data",
          "data": {
            "image/png": "[encoded data removed]",
            "text/plain": [
              "<Figure size 504x144 with 10 Axes>"
            ]
          },
          "metadata": {
            "tags": [],
            "needs_background": "light"
          }
        }
      ]
    }
  ]
}